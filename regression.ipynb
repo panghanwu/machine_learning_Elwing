{
  "nbformat": 4,
  "nbformat_minor": 0,
  "metadata": {
    "colab": {
      "name": "regression.ipynb",
      "provenance": [],
      "collapsed_sections": [],
      "authorship_tag": "ABX9TyM0c4e/l+0NgiyN4CCNlTdk",
      "include_colab_link": true
    },
    "kernelspec": {
      "name": "python3",
      "display_name": "Python 3"
    }
  },
  "cells": [
    {
      "cell_type": "markdown",
      "metadata": {
        "id": "view-in-github",
        "colab_type": "text"
      },
      "source": [
        "<a href=\"https://colab.research.google.com/github/panghanwu/scikit-learning_tutorial_Elwing/blob/main/regression.ipynb\" target=\"_parent\"><img src=\"https://colab.research.google.com/assets/colab-badge.svg\" alt=\"Open In Colab\"/></a>"
      ]
    },
    {
      "cell_type": "code",
      "metadata": {
        "id": "Ge_ngykMVmZZ",
        "outputId": "15a7cc13-f0ea-4102-808d-7fba63956e2d",
        "colab": {
          "base_uri": "https://localhost:8080/",
          "height": 419
        }
      },
      "source": [
        "from sklearn.datasets import load_boston\n",
        "import pandas as pd\n",
        "\n",
        "pd.options.display.max_rows = 20\n",
        "boston = load_boston()\n",
        "df = pd.DataFrame(boston[\"data\"], columns=boston[\"feature_names\"])\n",
        "df[\"target\"] = boston[\"target\"]\n",
        "df"
      ],
      "execution_count": null,
      "outputs": [
        {
          "output_type": "execute_result",
          "data": {
            "text/html": [
              "<div>\n",
              "<style scoped>\n",
              "    .dataframe tbody tr th:only-of-type {\n",
              "        vertical-align: middle;\n",
              "    }\n",
              "\n",
              "    .dataframe tbody tr th {\n",
              "        vertical-align: top;\n",
              "    }\n",
              "\n",
              "    .dataframe thead th {\n",
              "        text-align: right;\n",
              "    }\n",
              "</style>\n",
              "<table border=\"1\" class=\"dataframe\">\n",
              "  <thead>\n",
              "    <tr style=\"text-align: right;\">\n",
              "      <th></th>\n",
              "      <th>CRIM</th>\n",
              "      <th>ZN</th>\n",
              "      <th>INDUS</th>\n",
              "      <th>CHAS</th>\n",
              "      <th>NOX</th>\n",
              "      <th>RM</th>\n",
              "      <th>AGE</th>\n",
              "      <th>DIS</th>\n",
              "      <th>RAD</th>\n",
              "      <th>TAX</th>\n",
              "      <th>PTRATIO</th>\n",
              "      <th>B</th>\n",
              "      <th>LSTAT</th>\n",
              "      <th>target</th>\n",
              "    </tr>\n",
              "  </thead>\n",
              "  <tbody>\n",
              "    <tr>\n",
              "      <th>0</th>\n",
              "      <td>0.00632</td>\n",
              "      <td>18.0</td>\n",
              "      <td>2.31</td>\n",
              "      <td>0.0</td>\n",
              "      <td>0.538</td>\n",
              "      <td>6.575</td>\n",
              "      <td>65.2</td>\n",
              "      <td>4.0900</td>\n",
              "      <td>1.0</td>\n",
              "      <td>296.0</td>\n",
              "      <td>15.3</td>\n",
              "      <td>396.90</td>\n",
              "      <td>4.98</td>\n",
              "      <td>24.0</td>\n",
              "    </tr>\n",
              "    <tr>\n",
              "      <th>1</th>\n",
              "      <td>0.02731</td>\n",
              "      <td>0.0</td>\n",
              "      <td>7.07</td>\n",
              "      <td>0.0</td>\n",
              "      <td>0.469</td>\n",
              "      <td>6.421</td>\n",
              "      <td>78.9</td>\n",
              "      <td>4.9671</td>\n",
              "      <td>2.0</td>\n",
              "      <td>242.0</td>\n",
              "      <td>17.8</td>\n",
              "      <td>396.90</td>\n",
              "      <td>9.14</td>\n",
              "      <td>21.6</td>\n",
              "    </tr>\n",
              "    <tr>\n",
              "      <th>2</th>\n",
              "      <td>0.02729</td>\n",
              "      <td>0.0</td>\n",
              "      <td>7.07</td>\n",
              "      <td>0.0</td>\n",
              "      <td>0.469</td>\n",
              "      <td>7.185</td>\n",
              "      <td>61.1</td>\n",
              "      <td>4.9671</td>\n",
              "      <td>2.0</td>\n",
              "      <td>242.0</td>\n",
              "      <td>17.8</td>\n",
              "      <td>392.83</td>\n",
              "      <td>4.03</td>\n",
              "      <td>34.7</td>\n",
              "    </tr>\n",
              "    <tr>\n",
              "      <th>3</th>\n",
              "      <td>0.03237</td>\n",
              "      <td>0.0</td>\n",
              "      <td>2.18</td>\n",
              "      <td>0.0</td>\n",
              "      <td>0.458</td>\n",
              "      <td>6.998</td>\n",
              "      <td>45.8</td>\n",
              "      <td>6.0622</td>\n",
              "      <td>3.0</td>\n",
              "      <td>222.0</td>\n",
              "      <td>18.7</td>\n",
              "      <td>394.63</td>\n",
              "      <td>2.94</td>\n",
              "      <td>33.4</td>\n",
              "    </tr>\n",
              "    <tr>\n",
              "      <th>4</th>\n",
              "      <td>0.06905</td>\n",
              "      <td>0.0</td>\n",
              "      <td>2.18</td>\n",
              "      <td>0.0</td>\n",
              "      <td>0.458</td>\n",
              "      <td>7.147</td>\n",
              "      <td>54.2</td>\n",
              "      <td>6.0622</td>\n",
              "      <td>3.0</td>\n",
              "      <td>222.0</td>\n",
              "      <td>18.7</td>\n",
              "      <td>396.90</td>\n",
              "      <td>5.33</td>\n",
              "      <td>36.2</td>\n",
              "    </tr>\n",
              "    <tr>\n",
              "      <th>...</th>\n",
              "      <td>...</td>\n",
              "      <td>...</td>\n",
              "      <td>...</td>\n",
              "      <td>...</td>\n",
              "      <td>...</td>\n",
              "      <td>...</td>\n",
              "      <td>...</td>\n",
              "      <td>...</td>\n",
              "      <td>...</td>\n",
              "      <td>...</td>\n",
              "      <td>...</td>\n",
              "      <td>...</td>\n",
              "      <td>...</td>\n",
              "      <td>...</td>\n",
              "    </tr>\n",
              "    <tr>\n",
              "      <th>501</th>\n",
              "      <td>0.06263</td>\n",
              "      <td>0.0</td>\n",
              "      <td>11.93</td>\n",
              "      <td>0.0</td>\n",
              "      <td>0.573</td>\n",
              "      <td>6.593</td>\n",
              "      <td>69.1</td>\n",
              "      <td>2.4786</td>\n",
              "      <td>1.0</td>\n",
              "      <td>273.0</td>\n",
              "      <td>21.0</td>\n",
              "      <td>391.99</td>\n",
              "      <td>9.67</td>\n",
              "      <td>22.4</td>\n",
              "    </tr>\n",
              "    <tr>\n",
              "      <th>502</th>\n",
              "      <td>0.04527</td>\n",
              "      <td>0.0</td>\n",
              "      <td>11.93</td>\n",
              "      <td>0.0</td>\n",
              "      <td>0.573</td>\n",
              "      <td>6.120</td>\n",
              "      <td>76.7</td>\n",
              "      <td>2.2875</td>\n",
              "      <td>1.0</td>\n",
              "      <td>273.0</td>\n",
              "      <td>21.0</td>\n",
              "      <td>396.90</td>\n",
              "      <td>9.08</td>\n",
              "      <td>20.6</td>\n",
              "    </tr>\n",
              "    <tr>\n",
              "      <th>503</th>\n",
              "      <td>0.06076</td>\n",
              "      <td>0.0</td>\n",
              "      <td>11.93</td>\n",
              "      <td>0.0</td>\n",
              "      <td>0.573</td>\n",
              "      <td>6.976</td>\n",
              "      <td>91.0</td>\n",
              "      <td>2.1675</td>\n",
              "      <td>1.0</td>\n",
              "      <td>273.0</td>\n",
              "      <td>21.0</td>\n",
              "      <td>396.90</td>\n",
              "      <td>5.64</td>\n",
              "      <td>23.9</td>\n",
              "    </tr>\n",
              "    <tr>\n",
              "      <th>504</th>\n",
              "      <td>0.10959</td>\n",
              "      <td>0.0</td>\n",
              "      <td>11.93</td>\n",
              "      <td>0.0</td>\n",
              "      <td>0.573</td>\n",
              "      <td>6.794</td>\n",
              "      <td>89.3</td>\n",
              "      <td>2.3889</td>\n",
              "      <td>1.0</td>\n",
              "      <td>273.0</td>\n",
              "      <td>21.0</td>\n",
              "      <td>393.45</td>\n",
              "      <td>6.48</td>\n",
              "      <td>22.0</td>\n",
              "    </tr>\n",
              "    <tr>\n",
              "      <th>505</th>\n",
              "      <td>0.04741</td>\n",
              "      <td>0.0</td>\n",
              "      <td>11.93</td>\n",
              "      <td>0.0</td>\n",
              "      <td>0.573</td>\n",
              "      <td>6.030</td>\n",
              "      <td>80.8</td>\n",
              "      <td>2.5050</td>\n",
              "      <td>1.0</td>\n",
              "      <td>273.0</td>\n",
              "      <td>21.0</td>\n",
              "      <td>396.90</td>\n",
              "      <td>7.88</td>\n",
              "      <td>11.9</td>\n",
              "    </tr>\n",
              "  </tbody>\n",
              "</table>\n",
              "<p>506 rows × 14 columns</p>\n",
              "</div>"
            ],
            "text/plain": [
              "        CRIM    ZN  INDUS  CHAS    NOX  ...    TAX  PTRATIO       B  LSTAT  target\n",
              "0    0.00632  18.0   2.31   0.0  0.538  ...  296.0     15.3  396.90   4.98    24.0\n",
              "1    0.02731   0.0   7.07   0.0  0.469  ...  242.0     17.8  396.90   9.14    21.6\n",
              "2    0.02729   0.0   7.07   0.0  0.469  ...  242.0     17.8  392.83   4.03    34.7\n",
              "3    0.03237   0.0   2.18   0.0  0.458  ...  222.0     18.7  394.63   2.94    33.4\n",
              "4    0.06905   0.0   2.18   0.0  0.458  ...  222.0     18.7  396.90   5.33    36.2\n",
              "..       ...   ...    ...   ...    ...  ...    ...      ...     ...    ...     ...\n",
              "501  0.06263   0.0  11.93   0.0  0.573  ...  273.0     21.0  391.99   9.67    22.4\n",
              "502  0.04527   0.0  11.93   0.0  0.573  ...  273.0     21.0  396.90   9.08    20.6\n",
              "503  0.06076   0.0  11.93   0.0  0.573  ...  273.0     21.0  396.90   5.64    23.9\n",
              "504  0.10959   0.0  11.93   0.0  0.573  ...  273.0     21.0  393.45   6.48    22.0\n",
              "505  0.04741   0.0  11.93   0.0  0.573  ...  273.0     21.0  396.90   7.88    11.9\n",
              "\n",
              "[506 rows x 14 columns]"
            ]
          },
          "metadata": {
            "tags": []
          },
          "execution_count": 1
        }
      ]
    },
    {
      "cell_type": "markdown",
      "metadata": {
        "id": "DFZmTBW9gw7N"
      },
      "source": [
        ""
      ]
    },
    {
      "cell_type": "code",
      "metadata": {
        "id": "4qE762YogWZx"
      },
      "source": [
        "import numpy as np\n",
        "from sklearn.model_selection import train_test_split\n",
        "\n",
        "x , y = df.drop(['target'], axis=1), df['target']  # drop不會覆寫回DataFrame\n",
        "x, y = np.array(x), np.array(y)\n",
        "\n",
        "# train_test_split([1,2,3,4], [5,6,7,8], test_size=0.25, random_state=5)  # for test\n",
        "x_train, x_test, y_train, y_test = train_test_split(x, y, \n",
        "                            test_size=0.1)\n"
      ],
      "execution_count": null,
      "outputs": []
    },
    {
      "cell_type": "code",
      "metadata": {
        "id": "LfZ1arvenY15",
        "outputId": "4d4ee13a-8308-4b7c-fcec-55803cce8892",
        "colab": {
          "base_uri": "https://localhost:8080/",
          "height": 119
        }
      },
      "source": [
        "from sklearn.tree import DecisionTreeRegressor\n",
        "reg = DecisionTreeRegressor(max_depth=5)  # 創造方法 \n",
        "reg.fit(x_train, y_train) # fit: 學習"
      ],
      "execution_count": null,
      "outputs": [
        {
          "output_type": "execute_result",
          "data": {
            "text/plain": [
              "DecisionTreeRegressor(ccp_alpha=0.0, criterion='mse', max_depth=5,\n",
              "                      max_features=None, max_leaf_nodes=None,\n",
              "                      min_impurity_decrease=0.0, min_impurity_split=None,\n",
              "                      min_samples_leaf=1, min_samples_split=2,\n",
              "                      min_weight_fraction_leaf=0.0, presort='deprecated',\n",
              "                      random_state=None, splitter='best')"
            ]
          },
          "metadata": {
            "tags": []
          },
          "execution_count": 7
        }
      ]
    },
    {
      "cell_type": "code",
      "metadata": {
        "id": "n5Q4BpHsq0VI",
        "outputId": "f47e9c00-974c-4e31-85ed-61041d9d7c83",
        "colab": {
          "base_uri": "https://localhost:8080/",
          "height": 816
        }
      },
      "source": [
        "from sklearn.tree import export_graphviz\n",
        "import graphviz\n",
        "g = export_graphviz(reg, \n",
        "           feature_names=boston['feature_names'],\n",
        "           filled=True)\n",
        "graphviz.Source(g)"
      ],
      "execution_count": null,
      "outputs": [
        {
          "output_type": "execute_result",
          "data": {
            "text/plain": [
              "<graphviz.files.Source at 0x7f66f6338e10>"
            ],
            "image/svg+xml": "<?xml version=\"1.0\" encoding=\"UTF-8\" standalone=\"no\"?>\n<!DOCTYPE svg PUBLIC \"-//W3C//DTD SVG 1.1//EN\"\n \"http://www.w3.org/Graphics/SVG/1.1/DTD/svg11.dtd\">\n<!-- Generated by graphviz version 2.40.1 (20161225.0304)\n -->\n<!-- Title: Tree Pages: 1 -->\n<svg width=\"2648pt\" height=\"581pt\"\n viewBox=\"0.00 0.00 2648.00 581.00\" xmlns=\"http://www.w3.org/2000/svg\" xmlns:xlink=\"http://www.w3.org/1999/xlink\">\n<g id=\"graph0\" class=\"graph\" transform=\"scale(1 1) rotate(0) translate(4 577)\">\n<title>Tree</title>\n<polygon fill=\"#ffffff\" stroke=\"transparent\" points=\"-4,4 -4,-577 2644,-577 2644,4 -4,4\"/>\n<!-- 0 -->\n<g id=\"node1\" class=\"node\">\n<title>0</title>\n<polygon fill=\"#f7d6bf\" stroke=\"#000000\" points=\"1562.5,-573 1458.5,-573 1458.5,-505 1562.5,-505 1562.5,-573\"/>\n<text text-anchor=\"middle\" x=\"1510.5\" y=\"-557.8\" font-family=\"Times,serif\" font-size=\"14.00\" fill=\"#000000\">RM &lt;= 6.941</text>\n<text text-anchor=\"middle\" x=\"1510.5\" y=\"-542.8\" font-family=\"Times,serif\" font-size=\"14.00\" fill=\"#000000\">mse = 86.777</text>\n<text text-anchor=\"middle\" x=\"1510.5\" y=\"-527.8\" font-family=\"Times,serif\" font-size=\"14.00\" fill=\"#000000\">samples = 455</text>\n<text text-anchor=\"middle\" x=\"1510.5\" y=\"-512.8\" font-family=\"Times,serif\" font-size=\"14.00\" fill=\"#000000\">value = 22.816</text>\n</g>\n<!-- 1 -->\n<g id=\"node2\" class=\"node\">\n<title>1</title>\n<polygon fill=\"#f8dfcd\" stroke=\"#000000\" points=\"1111.5,-469 1001.5,-469 1001.5,-401 1111.5,-401 1111.5,-469\"/>\n<text text-anchor=\"middle\" x=\"1056.5\" y=\"-453.8\" font-family=\"Times,serif\" font-size=\"14.00\" fill=\"#000000\">LSTAT &lt;= 14.4</text>\n<text text-anchor=\"middle\" x=\"1056.5\" y=\"-438.8\" font-family=\"Times,serif\" font-size=\"14.00\" fill=\"#000000\">mse = 39.989</text>\n<text text-anchor=\"middle\" x=\"1056.5\" y=\"-423.8\" font-family=\"Times,serif\" font-size=\"14.00\" fill=\"#000000\">samples = 381</text>\n<text text-anchor=\"middle\" x=\"1056.5\" y=\"-408.8\" font-family=\"Times,serif\" font-size=\"14.00\" fill=\"#000000\">value = 20.025</text>\n</g>\n<!-- 0&#45;&gt;1 -->\n<g id=\"edge1\" class=\"edge\">\n<title>0&#45;&gt;1</title>\n<path fill=\"none\" stroke=\"#000000\" d=\"M1458.4204,-527.0699C1375.2445,-508.0164 1212.5677,-470.7512 1121.7555,-449.9484\"/>\n<polygon fill=\"#000000\" stroke=\"#000000\" points=\"1122.3826,-446.5015 1111.8536,-447.6801 1120.8195,-453.3247 1122.3826,-446.5015\"/>\n<text text-anchor=\"middle\" x=\"1125.1376\" y=\"-465.1587\" font-family=\"Times,serif\" font-size=\"14.00\" fill=\"#000000\">True</text>\n</g>\n<!-- 28 -->\n<g id=\"node29\" class=\"node\">\n<title>28</title>\n<polygon fill=\"#eda978\" stroke=\"#000000\" points=\"1998.5,-469 1894.5,-469 1894.5,-401 1998.5,-401 1998.5,-469\"/>\n<text text-anchor=\"middle\" x=\"1946.5\" y=\"-453.8\" font-family=\"Times,serif\" font-size=\"14.00\" fill=\"#000000\">RM &lt;= 7.437</text>\n<text text-anchor=\"middle\" x=\"1946.5\" y=\"-438.8\" font-family=\"Times,serif\" font-size=\"14.00\" fill=\"#000000\">mse = 81.225</text>\n<text text-anchor=\"middle\" x=\"1946.5\" y=\"-423.8\" font-family=\"Times,serif\" font-size=\"14.00\" fill=\"#000000\">samples = 74</text>\n<text text-anchor=\"middle\" x=\"1946.5\" y=\"-408.8\" font-family=\"Times,serif\" font-size=\"14.00\" fill=\"#000000\">value = 37.181</text>\n</g>\n<!-- 0&#45;&gt;28 -->\n<g id=\"edge28\" class=\"edge\">\n<title>0&#45;&gt;28</title>\n<path fill=\"none\" stroke=\"#000000\" d=\"M1562.6587,-526.5585C1643.3228,-507.3175 1798.0192,-470.4174 1884.3564,-449.8233\"/>\n<polygon fill=\"#000000\" stroke=\"#000000\" points=\"1885.3663,-453.1806 1894.2813,-447.4558 1883.7421,-446.3716 1885.3663,-453.1806\"/>\n<text text-anchor=\"middle\" x=\"1881.1877\" y=\"-465.0527\" font-family=\"Times,serif\" font-size=\"14.00\" fill=\"#000000\">False</text>\n</g>\n<!-- 2 -->\n<g id=\"node3\" class=\"node\">\n<title>2</title>\n<polygon fill=\"#f6d4bc\" stroke=\"#000000\" points=\"390.5,-365 286.5,-365 286.5,-297 390.5,-297 390.5,-365\"/>\n<text text-anchor=\"middle\" x=\"338.5\" y=\"-349.8\" font-family=\"Times,serif\" font-size=\"14.00\" fill=\"#000000\">DIS &lt;= 1.385</text>\n<text text-anchor=\"middle\" x=\"338.5\" y=\"-334.8\" font-family=\"Times,serif\" font-size=\"14.00\" fill=\"#000000\">mse = 26.849</text>\n<text text-anchor=\"middle\" x=\"338.5\" y=\"-319.8\" font-family=\"Times,serif\" font-size=\"14.00\" fill=\"#000000\">samples = 224</text>\n<text text-anchor=\"middle\" x=\"338.5\" y=\"-304.8\" font-family=\"Times,serif\" font-size=\"14.00\" fill=\"#000000\">value = 23.407</text>\n</g>\n<!-- 1&#45;&gt;2 -->\n<g id=\"edge2\" class=\"edge\">\n<title>1&#45;&gt;2</title>\n<path fill=\"none\" stroke=\"#000000\" d=\"M1001.3519,-427.012C870.0047,-407.9867 539.3295,-360.0895 400.9328,-340.0432\"/>\n<polygon fill=\"#000000\" stroke=\"#000000\" points=\"401.3085,-336.5612 390.9101,-338.5914 400.305,-343.4889 401.3085,-336.5612\"/>\n</g>\n<!-- 13 -->\n<g id=\"node14\" class=\"node\">\n<title>13</title>\n<polygon fill=\"#fceee4\" stroke=\"#000000\" points=\"1112,-365 1001,-365 1001,-297 1112,-297 1112,-365\"/>\n<text text-anchor=\"middle\" x=\"1056.5\" y=\"-349.8\" font-family=\"Times,serif\" font-size=\"14.00\" fill=\"#000000\">CRIM &lt;= 6.912</text>\n<text text-anchor=\"middle\" x=\"1056.5\" y=\"-334.8\" font-family=\"Times,serif\" font-size=\"14.00\" fill=\"#000000\">mse = 19.153</text>\n<text text-anchor=\"middle\" x=\"1056.5\" y=\"-319.8\" font-family=\"Times,serif\" font-size=\"14.00\" fill=\"#000000\">samples = 157</text>\n<text text-anchor=\"middle\" x=\"1056.5\" y=\"-304.8\" font-family=\"Times,serif\" font-size=\"14.00\" fill=\"#000000\">value = 15.201</text>\n</g>\n<!-- 1&#45;&gt;13 -->\n<g id=\"edge13\" class=\"edge\">\n<title>1&#45;&gt;13</title>\n<path fill=\"none\" stroke=\"#000000\" d=\"M1056.5,-400.9465C1056.5,-392.776 1056.5,-383.9318 1056.5,-375.3697\"/>\n<polygon fill=\"#000000\" stroke=\"#000000\" points=\"1060.0001,-375.13 1056.5,-365.13 1053.0001,-375.13 1060.0001,-375.13\"/>\n</g>\n<!-- 3 -->\n<g id=\"node4\" class=\"node\">\n<title>3</title>\n<polygon fill=\"#e88f4f\" stroke=\"#000000\" points=\"211,-261 92,-261 92,-193 211,-193 211,-261\"/>\n<text text-anchor=\"middle\" x=\"151.5\" y=\"-245.8\" font-family=\"Times,serif\" font-size=\"14.00\" fill=\"#000000\">CRIM &lt;= 10.592</text>\n<text text-anchor=\"middle\" x=\"151.5\" y=\"-230.8\" font-family=\"Times,serif\" font-size=\"14.00\" fill=\"#000000\">mse = 78.146</text>\n<text text-anchor=\"middle\" x=\"151.5\" y=\"-215.8\" font-family=\"Times,serif\" font-size=\"14.00\" fill=\"#000000\">samples = 5</text>\n<text text-anchor=\"middle\" x=\"151.5\" y=\"-200.8\" font-family=\"Times,serif\" font-size=\"14.00\" fill=\"#000000\">value = 45.58</text>\n</g>\n<!-- 2&#45;&gt;3 -->\n<g id=\"edge3\" class=\"edge\">\n<title>2&#45;&gt;3</title>\n<path fill=\"none\" stroke=\"#000000\" d=\"M286.4101,-302.0302C265.8937,-290.62 242.0438,-277.3559 220.1531,-265.1814\"/>\n<polygon fill=\"#000000\" stroke=\"#000000\" points=\"221.6709,-262.0207 211.2304,-260.219 218.2686,-268.1383 221.6709,-262.0207\"/>\n</g>\n<!-- 6 -->\n<g id=\"node7\" class=\"node\">\n<title>6</title>\n<polygon fill=\"#f7d6bf\" stroke=\"#000000\" points=\"388.5,-261 288.5,-261 288.5,-193 388.5,-193 388.5,-261\"/>\n<text text-anchor=\"middle\" x=\"338.5\" y=\"-245.8\" font-family=\"Times,serif\" font-size=\"14.00\" fill=\"#000000\">RM &lt;= 6.543</text>\n<text text-anchor=\"middle\" x=\"338.5\" y=\"-230.8\" font-family=\"Times,serif\" font-size=\"14.00\" fill=\"#000000\">mse = 14.196</text>\n<text text-anchor=\"middle\" x=\"338.5\" y=\"-215.8\" font-family=\"Times,serif\" font-size=\"14.00\" fill=\"#000000\">samples = 219</text>\n<text text-anchor=\"middle\" x=\"338.5\" y=\"-200.8\" font-family=\"Times,serif\" font-size=\"14.00\" fill=\"#000000\">value = 22.9</text>\n</g>\n<!-- 2&#45;&gt;6 -->\n<g id=\"edge6\" class=\"edge\">\n<title>2&#45;&gt;6</title>\n<path fill=\"none\" stroke=\"#000000\" d=\"M338.5,-296.9465C338.5,-288.776 338.5,-279.9318 338.5,-271.3697\"/>\n<polygon fill=\"#000000\" stroke=\"#000000\" points=\"342.0001,-271.13 338.5,-261.13 335.0001,-271.13 342.0001,-271.13\"/>\n</g>\n<!-- 4 -->\n<g id=\"node5\" class=\"node\">\n<title>4</title>\n<polygon fill=\"#e58139\" stroke=\"#000000\" points=\"89,-149.5 0,-149.5 0,-96.5 89,-96.5 89,-149.5\"/>\n<text text-anchor=\"middle\" x=\"44.5\" y=\"-134.3\" font-family=\"Times,serif\" font-size=\"14.00\" fill=\"#000000\">mse = 0.0</text>\n<text text-anchor=\"middle\" x=\"44.5\" y=\"-119.3\" font-family=\"Times,serif\" font-size=\"14.00\" fill=\"#000000\">samples = 4</text>\n<text text-anchor=\"middle\" x=\"44.5\" y=\"-104.3\" font-family=\"Times,serif\" font-size=\"14.00\" fill=\"#000000\">value = 50.0</text>\n</g>\n<!-- 3&#45;&gt;4 -->\n<g id=\"edge4\" class=\"edge\">\n<title>3&#45;&gt;4</title>\n<path fill=\"none\" stroke=\"#000000\" d=\"M116.4642,-192.9465C104.4516,-181.2707 91.0234,-168.219 79.0496,-156.5809\"/>\n<polygon fill=\"#000000\" stroke=\"#000000\" points=\"81.4182,-154.0022 71.8078,-149.5422 76.5393,-159.0218 81.4182,-154.0022\"/>\n</g>\n<!-- 5 -->\n<g id=\"node6\" class=\"node\">\n<title>5</title>\n<polygon fill=\"#f3c6a6\" stroke=\"#000000\" points=\"196,-149.5 107,-149.5 107,-96.5 196,-96.5 196,-149.5\"/>\n<text text-anchor=\"middle\" x=\"151.5\" y=\"-134.3\" font-family=\"Times,serif\" font-size=\"14.00\" fill=\"#000000\">mse = &#45;0.0</text>\n<text text-anchor=\"middle\" x=\"151.5\" y=\"-119.3\" font-family=\"Times,serif\" font-size=\"14.00\" fill=\"#000000\">samples = 1</text>\n<text text-anchor=\"middle\" x=\"151.5\" y=\"-104.3\" font-family=\"Times,serif\" font-size=\"14.00\" fill=\"#000000\">value = 27.9</text>\n</g>\n<!-- 3&#45;&gt;5 -->\n<g id=\"edge5\" class=\"edge\">\n<title>3&#45;&gt;5</title>\n<path fill=\"none\" stroke=\"#000000\" d=\"M151.5,-192.9465C151.5,-182.2621 151.5,-170.4254 151.5,-159.5742\"/>\n<polygon fill=\"#000000\" stroke=\"#000000\" points=\"155.0001,-159.5421 151.5,-149.5422 148.0001,-159.5422 155.0001,-159.5421\"/>\n</g>\n<!-- 7 -->\n<g id=\"node8\" class=\"node\">\n<title>7</title>\n<polygon fill=\"#f7dac4\" stroke=\"#000000\" points=\"324.5,-157 214.5,-157 214.5,-89 324.5,-89 324.5,-157\"/>\n<text text-anchor=\"middle\" x=\"269.5\" y=\"-141.8\" font-family=\"Times,serif\" font-size=\"14.00\" fill=\"#000000\">LSTAT &lt;= 7.81</text>\n<text text-anchor=\"middle\" x=\"269.5\" y=\"-126.8\" font-family=\"Times,serif\" font-size=\"14.00\" fill=\"#000000\">mse = 8.603</text>\n<text text-anchor=\"middle\" x=\"269.5\" y=\"-111.8\" font-family=\"Times,serif\" font-size=\"14.00\" fill=\"#000000\">samples = 172</text>\n<text text-anchor=\"middle\" x=\"269.5\" y=\"-96.8\" font-family=\"Times,serif\" font-size=\"14.00\" fill=\"#000000\">value = 21.722</text>\n</g>\n<!-- 6&#45;&gt;7 -->\n<g id=\"edge7\" class=\"edge\">\n<title>6&#45;&gt;7</title>\n<path fill=\"none\" stroke=\"#000000\" d=\"M315.9068,-192.9465C310.1286,-184.2373 303.8425,-174.7626 297.8166,-165.6801\"/>\n<polygon fill=\"#000000\" stroke=\"#000000\" points=\"300.589,-163.5278 292.1439,-157.13 294.756,-167.3978 300.589,-163.5278\"/>\n</g>\n<!-- 10 -->\n<g id=\"node11\" class=\"node\">\n<title>10</title>\n<polygon fill=\"#f4c8a9\" stroke=\"#000000\" points=\"452.5,-157 342.5,-157 342.5,-89 452.5,-89 452.5,-157\"/>\n<text text-anchor=\"middle\" x=\"397.5\" y=\"-141.8\" font-family=\"Times,serif\" font-size=\"14.00\" fill=\"#000000\">LSTAT &lt;= 7.67</text>\n<text text-anchor=\"middle\" x=\"397.5\" y=\"-126.8\" font-family=\"Times,serif\" font-size=\"14.00\" fill=\"#000000\">mse = 10.962</text>\n<text text-anchor=\"middle\" x=\"397.5\" y=\"-111.8\" font-family=\"Times,serif\" font-size=\"14.00\" fill=\"#000000\">samples = 47</text>\n<text text-anchor=\"middle\" x=\"397.5\" y=\"-96.8\" font-family=\"Times,serif\" font-size=\"14.00\" fill=\"#000000\">value = 27.215</text>\n</g>\n<!-- 6&#45;&gt;10 -->\n<g id=\"edge10\" class=\"edge\">\n<title>6&#45;&gt;10</title>\n<path fill=\"none\" stroke=\"#000000\" d=\"M357.8188,-192.9465C362.7087,-184.3271 368.0239,-174.9579 373.1278,-165.9611\"/>\n<polygon fill=\"#000000\" stroke=\"#000000\" points=\"376.2476,-167.5549 378.1378,-157.13 370.1592,-164.1008 376.2476,-167.5549\"/>\n</g>\n<!-- 8 -->\n<g id=\"node9\" class=\"node\">\n<title>8</title>\n<polygon fill=\"#f6d3ba\" stroke=\"#000000\" points=\"199.5,-53 95.5,-53 95.5,0 199.5,0 199.5,-53\"/>\n<text text-anchor=\"middle\" x=\"147.5\" y=\"-37.8\" font-family=\"Times,serif\" font-size=\"14.00\" fill=\"#000000\">mse = 3.301</text>\n<text text-anchor=\"middle\" x=\"147.5\" y=\"-22.8\" font-family=\"Times,serif\" font-size=\"14.00\" fill=\"#000000\">samples = 44</text>\n<text text-anchor=\"middle\" x=\"147.5\" y=\"-7.8\" font-family=\"Times,serif\" font-size=\"14.00\" fill=\"#000000\">value = 23.864</text>\n</g>\n<!-- 7&#45;&gt;8 -->\n<g id=\"edge8\" class=\"edge\">\n<title>7&#45;&gt;8</title>\n<path fill=\"none\" stroke=\"#000000\" d=\"M226.4874,-88.9777C214.4476,-79.4545 201.3812,-69.1191 189.4065,-59.6473\"/>\n<polygon fill=\"#000000\" stroke=\"#000000\" points=\"191.3311,-56.7072 181.3167,-53.2485 186.9885,-62.1973 191.3311,-56.7072\"/>\n</g>\n<!-- 9 -->\n<g id=\"node10\" class=\"node\">\n<title>9</title>\n<polygon fill=\"#f8dcc8\" stroke=\"#000000\" points=\"321.5,-53 217.5,-53 217.5,0 321.5,0 321.5,-53\"/>\n<text text-anchor=\"middle\" x=\"269.5\" y=\"-37.8\" font-family=\"Times,serif\" font-size=\"14.00\" fill=\"#000000\">mse = 8.307</text>\n<text text-anchor=\"middle\" x=\"269.5\" y=\"-22.8\" font-family=\"Times,serif\" font-size=\"14.00\" fill=\"#000000\">samples = 128</text>\n<text text-anchor=\"middle\" x=\"269.5\" y=\"-7.8\" font-family=\"Times,serif\" font-size=\"14.00\" fill=\"#000000\">value = 20.985</text>\n</g>\n<!-- 7&#45;&gt;9 -->\n<g id=\"edge9\" class=\"edge\">\n<title>7&#45;&gt;9</title>\n<path fill=\"none\" stroke=\"#000000\" d=\"M269.5,-88.9777C269.5,-80.7364 269.5,-71.887 269.5,-63.5153\"/>\n<polygon fill=\"#000000\" stroke=\"#000000\" points=\"273.0001,-63.2484 269.5,-53.2485 266.0001,-63.2485 273.0001,-63.2484\"/>\n</g>\n<!-- 11 -->\n<g id=\"node12\" class=\"node\">\n<title>11</title>\n<polygon fill=\"#f3c5a4\" stroke=\"#000000\" points=\"443.5,-53 339.5,-53 339.5,0 443.5,0 443.5,-53\"/>\n<text text-anchor=\"middle\" x=\"391.5\" y=\"-37.8\" font-family=\"Times,serif\" font-size=\"14.00\" fill=\"#000000\">mse = 8.973</text>\n<text text-anchor=\"middle\" x=\"391.5\" y=\"-22.8\" font-family=\"Times,serif\" font-size=\"14.00\" fill=\"#000000\">samples = 33</text>\n<text text-anchor=\"middle\" x=\"391.5\" y=\"-7.8\" font-family=\"Times,serif\" font-size=\"14.00\" fill=\"#000000\">value = 28.297</text>\n</g>\n<!-- 10&#45;&gt;11 -->\n<g id=\"edge11\" class=\"edge\">\n<title>10&#45;&gt;11</title>\n<path fill=\"none\" stroke=\"#000000\" d=\"M395.3846,-88.9777C394.8665,-80.6449 394.3098,-71.6903 393.7841,-63.2364\"/>\n<polygon fill=\"#000000\" stroke=\"#000000\" points=\"397.277,-63.012 393.1631,-53.2485 390.2905,-63.4464 397.277,-63.012\"/>\n</g>\n<!-- 12 -->\n<g id=\"node13\" class=\"node\">\n<title>12</title>\n<polygon fill=\"#f5d0b6\" stroke=\"#000000\" points=\"565.5,-53 461.5,-53 461.5,0 565.5,0 565.5,-53\"/>\n<text text-anchor=\"middle\" x=\"513.5\" y=\"-37.8\" font-family=\"Times,serif\" font-size=\"14.00\" fill=\"#000000\">mse = 6.385</text>\n<text text-anchor=\"middle\" x=\"513.5\" y=\"-22.8\" font-family=\"Times,serif\" font-size=\"14.00\" fill=\"#000000\">samples = 14</text>\n<text text-anchor=\"middle\" x=\"513.5\" y=\"-7.8\" font-family=\"Times,serif\" font-size=\"14.00\" fill=\"#000000\">value = 24.664</text>\n</g>\n<!-- 10&#45;&gt;12 -->\n<g id=\"edge12\" class=\"edge\">\n<title>10&#45;&gt;12</title>\n<path fill=\"none\" stroke=\"#000000\" d=\"M438.3973,-88.9777C449.8449,-79.4545 462.2687,-69.1191 473.6545,-59.6473\"/>\n<polygon fill=\"#000000\" stroke=\"#000000\" points=\"475.8971,-62.3345 481.3464,-53.2485 471.4203,-56.9532 475.8971,-62.3345\"/>\n</g>\n<!-- 14 -->\n<g id=\"node15\" class=\"node\">\n<title>14</title>\n<polygon fill=\"#fae7da\" stroke=\"#000000\" points=\"1021.5,-261 915.5,-261 915.5,-193 1021.5,-193 1021.5,-261\"/>\n<text text-anchor=\"middle\" x=\"968.5\" y=\"-245.8\" font-family=\"Times,serif\" font-size=\"14.00\" fill=\"#000000\">NOX &lt;= 0.531</text>\n<text text-anchor=\"middle\" x=\"968.5\" y=\"-230.8\" font-family=\"Times,serif\" font-size=\"14.00\" fill=\"#000000\">mse = 10.349</text>\n<text text-anchor=\"middle\" x=\"968.5\" y=\"-215.8\" font-family=\"Times,serif\" font-size=\"14.00\" fill=\"#000000\">samples = 92</text>\n<text text-anchor=\"middle\" x=\"968.5\" y=\"-200.8\" font-family=\"Times,serif\" font-size=\"14.00\" fill=\"#000000\">value = 17.348</text>\n</g>\n<!-- 13&#45;&gt;14 -->\n<g id=\"edge14\" class=\"edge\">\n<title>13&#45;&gt;14</title>\n<path fill=\"none\" stroke=\"#000000\" d=\"M1027.6855,-296.9465C1020.0883,-287.968 1011.8026,-278.1758 1003.9018,-268.8385\"/>\n<polygon fill=\"#000000\" stroke=\"#000000\" points=\"1006.5105,-266.5031 997.3792,-261.13 1001.1668,-271.0247 1006.5105,-266.5031\"/>\n</g>\n<!-- 21 -->\n<g id=\"node22\" class=\"node\">\n<title>21</title>\n<polygon fill=\"#fdf8f3\" stroke=\"#000000\" points=\"1197.5,-261 1091.5,-261 1091.5,-193 1197.5,-193 1197.5,-261\"/>\n<text text-anchor=\"middle\" x=\"1144.5\" y=\"-245.8\" font-family=\"Times,serif\" font-size=\"14.00\" fill=\"#000000\">NOX &lt;= 0.606</text>\n<text text-anchor=\"middle\" x=\"1144.5\" y=\"-230.8\" font-family=\"Times,serif\" font-size=\"14.00\" fill=\"#000000\">mse = 15.86</text>\n<text text-anchor=\"middle\" x=\"1144.5\" y=\"-215.8\" font-family=\"Times,serif\" font-size=\"14.00\" fill=\"#000000\">samples = 65</text>\n<text text-anchor=\"middle\" x=\"1144.5\" y=\"-200.8\" font-family=\"Times,serif\" font-size=\"14.00\" fill=\"#000000\">value = 12.163</text>\n</g>\n<!-- 13&#45;&gt;21 -->\n<g id=\"edge21\" class=\"edge\">\n<title>13&#45;&gt;21</title>\n<path fill=\"none\" stroke=\"#000000\" d=\"M1085.3145,-296.9465C1092.9117,-287.968 1101.1974,-278.1758 1109.0982,-268.8385\"/>\n<polygon fill=\"#000000\" stroke=\"#000000\" points=\"1111.8332,-271.0247 1115.6208,-261.13 1106.4895,-266.5031 1111.8332,-271.0247\"/>\n</g>\n<!-- 15 -->\n<g id=\"node16\" class=\"node\">\n<title>15</title>\n<polygon fill=\"#f8dfcc\" stroke=\"#000000\" points=\"800.5,-157 702.5,-157 702.5,-89 800.5,-89 800.5,-157\"/>\n<text text-anchor=\"middle\" x=\"751.5\" y=\"-141.8\" font-family=\"Times,serif\" font-size=\"14.00\" fill=\"#000000\">DIS &lt;= 6.016</text>\n<text text-anchor=\"middle\" x=\"751.5\" y=\"-126.8\" font-family=\"Times,serif\" font-size=\"14.00\" fill=\"#000000\">mse = 8.877</text>\n<text text-anchor=\"middle\" x=\"751.5\" y=\"-111.8\" font-family=\"Times,serif\" font-size=\"14.00\" fill=\"#000000\">samples = 23</text>\n<text text-anchor=\"middle\" x=\"751.5\" y=\"-96.8\" font-family=\"Times,serif\" font-size=\"14.00\" fill=\"#000000\">value = 20.17</text>\n</g>\n<!-- 14&#45;&gt;15 -->\n<g id=\"edge15\" class=\"edge\">\n<title>14&#45;&gt;15</title>\n<path fill=\"none\" stroke=\"#000000\" d=\"M915.4158,-201.5587C883.4171,-186.2229 842.6281,-166.6743 809.7444,-150.9144\"/>\n<polygon fill=\"#000000\" stroke=\"#000000\" points=\"811.2235,-147.7421 800.693,-146.5764 808.1981,-154.0546 811.2235,-147.7421\"/>\n</g>\n<!-- 18 -->\n<g id=\"node19\" class=\"node\">\n<title>18</title>\n<polygon fill=\"#fbeadf\" stroke=\"#000000\" points=\"1031,-157 906,-157 906,-89 1031,-89 1031,-157\"/>\n<text text-anchor=\"middle\" x=\"968.5\" y=\"-141.8\" font-family=\"Times,serif\" font-size=\"14.00\" fill=\"#000000\">LSTAT &lt;= 18.885</text>\n<text text-anchor=\"middle\" x=\"968.5\" y=\"-126.8\" font-family=\"Times,serif\" font-size=\"14.00\" fill=\"#000000\">mse = 7.302</text>\n<text text-anchor=\"middle\" x=\"968.5\" y=\"-111.8\" font-family=\"Times,serif\" font-size=\"14.00\" fill=\"#000000\">samples = 69</text>\n<text text-anchor=\"middle\" x=\"968.5\" y=\"-96.8\" font-family=\"Times,serif\" font-size=\"14.00\" fill=\"#000000\">value = 16.407</text>\n</g>\n<!-- 14&#45;&gt;18 -->\n<g id=\"edge18\" class=\"edge\">\n<title>14&#45;&gt;18</title>\n<path fill=\"none\" stroke=\"#000000\" d=\"M968.5,-192.9465C968.5,-184.776 968.5,-175.9318 968.5,-167.3697\"/>\n<polygon fill=\"#000000\" stroke=\"#000000\" points=\"972.0001,-167.13 968.5,-157.13 965.0001,-167.13 972.0001,-167.13\"/>\n</g>\n<!-- 16 -->\n<g id=\"node17\" class=\"node\">\n<title>16</title>\n<polygon fill=\"#f8dbc6\" stroke=\"#000000\" points=\"681,-53 584,-53 584,0 681,0 681,-53\"/>\n<text text-anchor=\"middle\" x=\"632.5\" y=\"-37.8\" font-family=\"Times,serif\" font-size=\"14.00\" fill=\"#000000\">mse = 7.914</text>\n<text text-anchor=\"middle\" x=\"632.5\" y=\"-22.8\" font-family=\"Times,serif\" font-size=\"14.00\" fill=\"#000000\">samples = 15</text>\n<text text-anchor=\"middle\" x=\"632.5\" y=\"-7.8\" font-family=\"Times,serif\" font-size=\"14.00\" fill=\"#000000\">value = 21.36</text>\n</g>\n<!-- 15&#45;&gt;16 -->\n<g id=\"edge16\" class=\"edge\">\n<title>15&#45;&gt;16</title>\n<path fill=\"none\" stroke=\"#000000\" d=\"M709.5451,-88.9777C697.8014,-79.4545 685.0562,-69.1191 673.376,-59.6473\"/>\n<polygon fill=\"#000000\" stroke=\"#000000\" points=\"675.4568,-56.8286 665.4852,-53.2485 671.0478,-62.2656 675.4568,-56.8286\"/>\n</g>\n<!-- 17 -->\n<g id=\"node18\" class=\"node\">\n<title>17</title>\n<polygon fill=\"#fae6d7\" stroke=\"#000000\" points=\"803.5,-53 699.5,-53 699.5,0 803.5,0 803.5,-53\"/>\n<text text-anchor=\"middle\" x=\"751.5\" y=\"-37.8\" font-family=\"Times,serif\" font-size=\"14.00\" fill=\"#000000\">mse = 3.042</text>\n<text text-anchor=\"middle\" x=\"751.5\" y=\"-22.8\" font-family=\"Times,serif\" font-size=\"14.00\" fill=\"#000000\">samples = 8</text>\n<text text-anchor=\"middle\" x=\"751.5\" y=\"-7.8\" font-family=\"Times,serif\" font-size=\"14.00\" fill=\"#000000\">value = 17.938</text>\n</g>\n<!-- 15&#45;&gt;17 -->\n<g id=\"edge17\" class=\"edge\">\n<title>15&#45;&gt;17</title>\n<path fill=\"none\" stroke=\"#000000\" d=\"M751.5,-88.9777C751.5,-80.7364 751.5,-71.887 751.5,-63.5153\"/>\n<polygon fill=\"#000000\" stroke=\"#000000\" points=\"755.0001,-63.2484 751.5,-53.2485 748.0001,-63.2485 755.0001,-63.2484\"/>\n</g>\n<!-- 19 -->\n<g id=\"node20\" class=\"node\">\n<title>19</title>\n<polygon fill=\"#fae8db\" stroke=\"#000000\" points=\"925.5,-53 821.5,-53 821.5,0 925.5,0 925.5,-53\"/>\n<text text-anchor=\"middle\" x=\"873.5\" y=\"-37.8\" font-family=\"Times,serif\" font-size=\"14.00\" fill=\"#000000\">mse = 5.525</text>\n<text text-anchor=\"middle\" x=\"873.5\" y=\"-22.8\" font-family=\"Times,serif\" font-size=\"14.00\" fill=\"#000000\">samples = 49</text>\n<text text-anchor=\"middle\" x=\"873.5\" y=\"-7.8\" font-family=\"Times,serif\" font-size=\"14.00\" fill=\"#000000\">value = 17.196</text>\n</g>\n<!-- 18&#45;&gt;19 -->\n<g id=\"edge19\" class=\"edge\">\n<title>18&#45;&gt;19</title>\n<path fill=\"none\" stroke=\"#000000\" d=\"M935.0066,-88.9777C925.9018,-79.7292 916.043,-69.7147 906.9411,-60.4691\"/>\n<polygon fill=\"#000000\" stroke=\"#000000\" points=\"909.3424,-57.9193 899.8327,-53.2485 904.354,-62.8302 909.3424,-57.9193\"/>\n</g>\n<!-- 20 -->\n<g id=\"node21\" class=\"node\">\n<title>20</title>\n<polygon fill=\"#fcf0e8\" stroke=\"#000000\" points=\"1047.5,-53 943.5,-53 943.5,0 1047.5,0 1047.5,-53\"/>\n<text text-anchor=\"middle\" x=\"995.5\" y=\"-37.8\" font-family=\"Times,serif\" font-size=\"14.00\" fill=\"#000000\">mse = 6.396</text>\n<text text-anchor=\"middle\" x=\"995.5\" y=\"-22.8\" font-family=\"Times,serif\" font-size=\"14.00\" fill=\"#000000\">samples = 20</text>\n<text text-anchor=\"middle\" x=\"995.5\" y=\"-7.8\" font-family=\"Times,serif\" font-size=\"14.00\" fill=\"#000000\">value = 14.475</text>\n</g>\n<!-- 18&#45;&gt;20 -->\n<g id=\"edge20\" class=\"edge\">\n<title>18&#45;&gt;20</title>\n<path fill=\"none\" stroke=\"#000000\" d=\"M978.0192,-88.9777C980.3763,-80.5533 982.9112,-71.4934 985.2993,-62.9579\"/>\n<polygon fill=\"#000000\" stroke=\"#000000\" points=\"988.692,-63.8217 988.016,-53.2485 981.9509,-61.9356 988.692,-63.8217\"/>\n</g>\n<!-- 22 -->\n<g id=\"node23\" class=\"node\">\n<title>22</title>\n<polygon fill=\"#fbeadd\" stroke=\"#000000\" points=\"1196.5,-157 1092.5,-157 1092.5,-89 1196.5,-89 1196.5,-157\"/>\n<text text-anchor=\"middle\" x=\"1144.5\" y=\"-141.8\" font-family=\"Times,serif\" font-size=\"14.00\" fill=\"#000000\">RM &lt;= 6.843</text>\n<text text-anchor=\"middle\" x=\"1144.5\" y=\"-126.8\" font-family=\"Times,serif\" font-size=\"14.00\" fill=\"#000000\">mse = 18.606</text>\n<text text-anchor=\"middle\" x=\"1144.5\" y=\"-111.8\" font-family=\"Times,serif\" font-size=\"14.00\" fill=\"#000000\">samples = 12</text>\n<text text-anchor=\"middle\" x=\"1144.5\" y=\"-96.8\" font-family=\"Times,serif\" font-size=\"14.00\" fill=\"#000000\">value = 16.633</text>\n</g>\n<!-- 21&#45;&gt;22 -->\n<g id=\"edge22\" class=\"edge\">\n<title>21&#45;&gt;22</title>\n<path fill=\"none\" stroke=\"#000000\" d=\"M1144.5,-192.9465C1144.5,-184.776 1144.5,-175.9318 1144.5,-167.3697\"/>\n<polygon fill=\"#000000\" stroke=\"#000000\" points=\"1148.0001,-167.13 1144.5,-157.13 1141.0001,-167.13 1148.0001,-167.13\"/>\n</g>\n<!-- 25 -->\n<g id=\"node26\" class=\"node\">\n<title>25</title>\n<polygon fill=\"#fefbf8\" stroke=\"#000000\" points=\"1410,-157 1285,-157 1285,-89 1410,-89 1410,-157\"/>\n<text text-anchor=\"middle\" x=\"1347.5\" y=\"-141.8\" font-family=\"Times,serif\" font-size=\"14.00\" fill=\"#000000\">LSTAT &lt;= 19.645</text>\n<text text-anchor=\"middle\" x=\"1347.5\" y=\"-126.8\" font-family=\"Times,serif\" font-size=\"14.00\" fill=\"#000000\">mse = 9.69</text>\n<text text-anchor=\"middle\" x=\"1347.5\" y=\"-111.8\" font-family=\"Times,serif\" font-size=\"14.00\" fill=\"#000000\">samples = 53</text>\n<text text-anchor=\"middle\" x=\"1347.5\" y=\"-96.8\" font-family=\"Times,serif\" font-size=\"14.00\" fill=\"#000000\">value = 11.151</text>\n</g>\n<!-- 21&#45;&gt;25 -->\n<g id=\"edge25\" class=\"edge\">\n<title>21&#45;&gt;25</title>\n<path fill=\"none\" stroke=\"#000000\" d=\"M1197.5707,-199.8111C1221.425,-187.5902 1249.9406,-172.9812 1275.6681,-159.8006\"/>\n<polygon fill=\"#000000\" stroke=\"#000000\" points=\"1277.3356,-162.879 1284.6397,-155.2043 1274.1438,-156.6489 1277.3356,-162.879\"/>\n</g>\n<!-- 23 -->\n<g id=\"node24\" class=\"node\">\n<title>23</title>\n<polygon fill=\"#fbede2\" stroke=\"#000000\" points=\"1169.5,-53 1065.5,-53 1065.5,0 1169.5,0 1169.5,-53\"/>\n<text text-anchor=\"middle\" x=\"1117.5\" y=\"-37.8\" font-family=\"Times,serif\" font-size=\"14.00\" fill=\"#000000\">mse = 8.586</text>\n<text text-anchor=\"middle\" x=\"1117.5\" y=\"-22.8\" font-family=\"Times,serif\" font-size=\"14.00\" fill=\"#000000\">samples = 11</text>\n<text text-anchor=\"middle\" x=\"1117.5\" y=\"-7.8\" font-family=\"Times,serif\" font-size=\"14.00\" fill=\"#000000\">value = 15.645</text>\n</g>\n<!-- 22&#45;&gt;23 -->\n<g id=\"edge23\" class=\"edge\">\n<title>22&#45;&gt;23</title>\n<path fill=\"none\" stroke=\"#000000\" d=\"M1134.9808,-88.9777C1132.6237,-80.5533 1130.0888,-71.4934 1127.7007,-62.9579\"/>\n<polygon fill=\"#000000\" stroke=\"#000000\" points=\"1131.0491,-61.9356 1124.984,-53.2485 1124.308,-63.8217 1131.0491,-61.9356\"/>\n</g>\n<!-- 24 -->\n<g id=\"node25\" class=\"node\">\n<title>24</title>\n<polygon fill=\"#f4c8a8\" stroke=\"#000000\" points=\"1277,-53 1188,-53 1188,0 1277,0 1277,-53\"/>\n<text text-anchor=\"middle\" x=\"1232.5\" y=\"-37.8\" font-family=\"Times,serif\" font-size=\"14.00\" fill=\"#000000\">mse = 0.0</text>\n<text text-anchor=\"middle\" x=\"1232.5\" y=\"-22.8\" font-family=\"Times,serif\" font-size=\"14.00\" fill=\"#000000\">samples = 1</text>\n<text text-anchor=\"middle\" x=\"1232.5\" y=\"-7.8\" font-family=\"Times,serif\" font-size=\"14.00\" fill=\"#000000\">value = 27.5</text>\n</g>\n<!-- 22&#45;&gt;24 -->\n<g id=\"edge24\" class=\"edge\">\n<title>22&#45;&gt;24</title>\n<path fill=\"none\" stroke=\"#000000\" d=\"M1175.5255,-88.9777C1183.8759,-79.8207 1192.911,-69.9129 1201.2724,-60.744\"/>\n<polygon fill=\"#000000\" stroke=\"#000000\" points=\"1203.9556,-62.9959 1208.1076,-53.2485 1198.7833,-58.2791 1203.9556,-62.9959\"/>\n</g>\n<!-- 26 -->\n<g id=\"node27\" class=\"node\">\n<title>26</title>\n<polygon fill=\"#fcf2eb\" stroke=\"#000000\" points=\"1399.5,-53 1295.5,-53 1295.5,0 1399.5,0 1399.5,-53\"/>\n<text text-anchor=\"middle\" x=\"1347.5\" y=\"-37.8\" font-family=\"Times,serif\" font-size=\"14.00\" fill=\"#000000\">mse = 4.372</text>\n<text text-anchor=\"middle\" x=\"1347.5\" y=\"-22.8\" font-family=\"Times,serif\" font-size=\"14.00\" fill=\"#000000\">samples = 17</text>\n<text text-anchor=\"middle\" x=\"1347.5\" y=\"-7.8\" font-family=\"Times,serif\" font-size=\"14.00\" fill=\"#000000\">value = 13.976</text>\n</g>\n<!-- 25&#45;&gt;26 -->\n<g id=\"edge26\" class=\"edge\">\n<title>25&#45;&gt;26</title>\n<path fill=\"none\" stroke=\"#000000\" d=\"M1347.5,-88.9777C1347.5,-80.7364 1347.5,-71.887 1347.5,-63.5153\"/>\n<polygon fill=\"#000000\" stroke=\"#000000\" points=\"1351.0001,-63.2484 1347.5,-53.2485 1344.0001,-63.2485 1351.0001,-63.2484\"/>\n</g>\n<!-- 27 -->\n<g id=\"node28\" class=\"node\">\n<title>27</title>\n<polygon fill=\"#ffffff\" stroke=\"#000000\" points=\"1515,-53 1418,-53 1418,0 1515,0 1515,-53\"/>\n<text text-anchor=\"middle\" x=\"1466.5\" y=\"-37.8\" font-family=\"Times,serif\" font-size=\"14.00\" fill=\"#000000\">mse = 6.651</text>\n<text text-anchor=\"middle\" x=\"1466.5\" y=\"-22.8\" font-family=\"Times,serif\" font-size=\"14.00\" fill=\"#000000\">samples = 36</text>\n<text text-anchor=\"middle\" x=\"1466.5\" y=\"-7.8\" font-family=\"Times,serif\" font-size=\"14.00\" fill=\"#000000\">value = 9.817</text>\n</g>\n<!-- 25&#45;&gt;27 -->\n<g id=\"edge27\" class=\"edge\">\n<title>25&#45;&gt;27</title>\n<path fill=\"none\" stroke=\"#000000\" d=\"M1389.4549,-88.9777C1401.1986,-79.4545 1413.9438,-69.1191 1425.624,-59.6473\"/>\n<polygon fill=\"#000000\" stroke=\"#000000\" points=\"1427.9522,-62.2656 1433.5148,-53.2485 1423.5432,-56.8286 1427.9522,-62.2656\"/>\n</g>\n<!-- 29 -->\n<g id=\"node30\" class=\"node\">\n<title>29</title>\n<polygon fill=\"#f1b991\" stroke=\"#000000\" points=\"2002,-365 1891,-365 1891,-297 2002,-297 2002,-365\"/>\n<text text-anchor=\"middle\" x=\"1946.5\" y=\"-349.8\" font-family=\"Times,serif\" font-size=\"14.00\" fill=\"#000000\">CRIM &lt;= 7.393</text>\n<text text-anchor=\"middle\" x=\"1946.5\" y=\"-334.8\" font-family=\"Times,serif\" font-size=\"14.00\" fill=\"#000000\">mse = 42.037</text>\n<text text-anchor=\"middle\" x=\"1946.5\" y=\"-319.8\" font-family=\"Times,serif\" font-size=\"14.00\" fill=\"#000000\">samples = 45</text>\n<text text-anchor=\"middle\" x=\"1946.5\" y=\"-304.8\" font-family=\"Times,serif\" font-size=\"14.00\" fill=\"#000000\">value = 32.051</text>\n</g>\n<!-- 28&#45;&gt;29 -->\n<g id=\"edge29\" class=\"edge\">\n<title>28&#45;&gt;29</title>\n<path fill=\"none\" stroke=\"#000000\" d=\"M1946.5,-400.9465C1946.5,-392.776 1946.5,-383.9318 1946.5,-375.3697\"/>\n<polygon fill=\"#000000\" stroke=\"#000000\" points=\"1950.0001,-375.13 1946.5,-365.13 1943.0001,-375.13 1950.0001,-375.13\"/>\n</g>\n<!-- 42 -->\n<g id=\"node43\" class=\"node\">\n<title>42</title>\n<polygon fill=\"#e89051\" stroke=\"#000000\" points=\"2362.5,-365 2258.5,-365 2258.5,-297 2362.5,-297 2362.5,-365\"/>\n<text text-anchor=\"middle\" x=\"2310.5\" y=\"-349.8\" font-family=\"Times,serif\" font-size=\"14.00\" fill=\"#000000\">RAD &lt;= 16.0</text>\n<text text-anchor=\"middle\" x=\"2310.5\" y=\"-334.8\" font-family=\"Times,serif\" font-size=\"14.00\" fill=\"#000000\">mse = 37.831</text>\n<text text-anchor=\"middle\" x=\"2310.5\" y=\"-319.8\" font-family=\"Times,serif\" font-size=\"14.00\" fill=\"#000000\">samples = 29</text>\n<text text-anchor=\"middle\" x=\"2310.5\" y=\"-304.8\" font-family=\"Times,serif\" font-size=\"14.00\" fill=\"#000000\">value = 45.141</text>\n</g>\n<!-- 28&#45;&gt;42 -->\n<g id=\"edge42\" class=\"edge\">\n<title>28&#45;&gt;42</title>\n<path fill=\"none\" stroke=\"#000000\" d=\"M1998.6523,-420.0993C2064.7403,-401.2171 2178.4909,-368.7169 2248.8186,-348.6233\"/>\n<polygon fill=\"#000000\" stroke=\"#000000\" points=\"2249.7907,-351.9856 2258.4444,-345.873 2247.8676,-345.255 2249.7907,-351.9856\"/>\n</g>\n<!-- 30 -->\n<g id=\"node31\" class=\"node\">\n<title>30</title>\n<polygon fill=\"#f0b58b\" stroke=\"#000000\" points=\"1909.5,-261 1805.5,-261 1805.5,-193 1909.5,-193 1909.5,-261\"/>\n<text text-anchor=\"middle\" x=\"1857.5\" y=\"-245.8\" font-family=\"Times,serif\" font-size=\"14.00\" fill=\"#000000\">DIS &lt;= 1.886</text>\n<text text-anchor=\"middle\" x=\"1857.5\" y=\"-230.8\" font-family=\"Times,serif\" font-size=\"14.00\" fill=\"#000000\">mse = 20.531</text>\n<text text-anchor=\"middle\" x=\"1857.5\" y=\"-215.8\" font-family=\"Times,serif\" font-size=\"14.00\" fill=\"#000000\">samples = 42</text>\n<text text-anchor=\"middle\" x=\"1857.5\" y=\"-200.8\" font-family=\"Times,serif\" font-size=\"14.00\" fill=\"#000000\">value = 33.312</text>\n</g>\n<!-- 29&#45;&gt;30 -->\n<g id=\"edge30\" class=\"edge\">\n<title>29&#45;&gt;30</title>\n<path fill=\"none\" stroke=\"#000000\" d=\"M1917.3581,-296.9465C1909.6745,-287.968 1901.2947,-278.1758 1893.3041,-268.8385\"/>\n<polygon fill=\"#000000\" stroke=\"#000000\" points=\"1895.8685,-266.4521 1886.7074,-261.13 1890.5501,-271.0034 1895.8685,-266.4521\"/>\n</g>\n<!-- 37 -->\n<g id=\"node38\" class=\"node\">\n<title>37</title>\n<polygon fill=\"#fcf1e8\" stroke=\"#000000\" points=\"2099,-261 1974,-261 1974,-193 2099,-193 2099,-261\"/>\n<text text-anchor=\"middle\" x=\"2036.5\" y=\"-245.8\" font-family=\"Times,serif\" font-size=\"14.00\" fill=\"#000000\">LSTAT &lt;= 16.975</text>\n<text text-anchor=\"middle\" x=\"2036.5\" y=\"-230.8\" font-family=\"Times,serif\" font-size=\"14.00\" fill=\"#000000\">mse = 9.307</text>\n<text text-anchor=\"middle\" x=\"2036.5\" y=\"-215.8\" font-family=\"Times,serif\" font-size=\"14.00\" fill=\"#000000\">samples = 3</text>\n<text text-anchor=\"middle\" x=\"2036.5\" y=\"-200.8\" font-family=\"Times,serif\" font-size=\"14.00\" fill=\"#000000\">value = 14.4</text>\n</g>\n<!-- 29&#45;&gt;37 -->\n<g id=\"edge37\" class=\"edge\">\n<title>29&#45;&gt;37</title>\n<path fill=\"none\" stroke=\"#000000\" d=\"M1975.9694,-296.9465C1983.7393,-287.968 1992.2132,-278.1758 2000.2936,-268.8385\"/>\n<polygon fill=\"#000000\" stroke=\"#000000\" points=\"2003.0672,-270.982 2006.9644,-261.13 1997.774,-266.4014 2003.0672,-270.982\"/>\n</g>\n<!-- 31 -->\n<g id=\"node32\" class=\"node\">\n<title>31</title>\n<polygon fill=\"#e88f4e\" stroke=\"#000000\" points=\"1740,-157 1629,-157 1629,-89 1740,-89 1740,-157\"/>\n<text text-anchor=\"middle\" x=\"1684.5\" y=\"-141.8\" font-family=\"Times,serif\" font-size=\"14.00\" fill=\"#000000\">CRIM &lt;= 3.881</text>\n<text text-anchor=\"middle\" x=\"1684.5\" y=\"-126.8\" font-family=\"Times,serif\" font-size=\"14.00\" fill=\"#000000\">mse = 18.923</text>\n<text text-anchor=\"middle\" x=\"1684.5\" y=\"-111.8\" font-family=\"Times,serif\" font-size=\"14.00\" fill=\"#000000\">samples = 2</text>\n<text text-anchor=\"middle\" x=\"1684.5\" y=\"-96.8\" font-family=\"Times,serif\" font-size=\"14.00\" fill=\"#000000\">value = 45.65</text>\n</g>\n<!-- 30&#45;&gt;31 -->\n<g id=\"edge31\" class=\"edge\">\n<title>30&#45;&gt;31</title>\n<path fill=\"none\" stroke=\"#000000\" d=\"M1805.1248,-195.5143C1787.3532,-184.8308 1767.2929,-172.7714 1748.7063,-161.598\"/>\n<polygon fill=\"#000000\" stroke=\"#000000\" points=\"1750.3753,-158.5176 1740.0015,-156.365 1746.7687,-164.517 1750.3753,-158.5176\"/>\n</g>\n<!-- 34 -->\n<g id=\"node35\" class=\"node\">\n<title>34</title>\n<polygon fill=\"#f0b78e\" stroke=\"#000000\" points=\"1910.5,-157 1804.5,-157 1804.5,-89 1910.5,-89 1910.5,-157\"/>\n<text text-anchor=\"middle\" x=\"1857.5\" y=\"-141.8\" font-family=\"Times,serif\" font-size=\"14.00\" fill=\"#000000\">NOX &lt;= 0.488</text>\n<text text-anchor=\"middle\" x=\"1857.5\" y=\"-126.8\" font-family=\"Times,serif\" font-size=\"14.00\" fill=\"#000000\">mse = 12.619</text>\n<text text-anchor=\"middle\" x=\"1857.5\" y=\"-111.8\" font-family=\"Times,serif\" font-size=\"14.00\" fill=\"#000000\">samples = 40</text>\n<text text-anchor=\"middle\" x=\"1857.5\" y=\"-96.8\" font-family=\"Times,serif\" font-size=\"14.00\" fill=\"#000000\">value = 32.695</text>\n</g>\n<!-- 30&#45;&gt;34 -->\n<g id=\"edge34\" class=\"edge\">\n<title>30&#45;&gt;34</title>\n<path fill=\"none\" stroke=\"#000000\" d=\"M1857.5,-192.9465C1857.5,-184.776 1857.5,-175.9318 1857.5,-167.3697\"/>\n<polygon fill=\"#000000\" stroke=\"#000000\" points=\"1861.0001,-167.13 1857.5,-157.13 1854.0001,-167.13 1861.0001,-167.13\"/>\n</g>\n<!-- 32 -->\n<g id=\"node33\" class=\"node\">\n<title>32</title>\n<polygon fill=\"#eb9c64\" stroke=\"#000000\" points=\"1622,-53 1533,-53 1533,0 1622,0 1622,-53\"/>\n<text text-anchor=\"middle\" x=\"1577.5\" y=\"-37.8\" font-family=\"Times,serif\" font-size=\"14.00\" fill=\"#000000\">mse = 0.0</text>\n<text text-anchor=\"middle\" x=\"1577.5\" y=\"-22.8\" font-family=\"Times,serif\" font-size=\"14.00\" fill=\"#000000\">samples = 1</text>\n<text text-anchor=\"middle\" x=\"1577.5\" y=\"-7.8\" font-family=\"Times,serif\" font-size=\"14.00\" fill=\"#000000\">value = 41.3</text>\n</g>\n<!-- 31&#45;&gt;32 -->\n<g id=\"edge32\" class=\"edge\">\n<title>31&#45;&gt;32</title>\n<path fill=\"none\" stroke=\"#000000\" d=\"M1646.7758,-88.9777C1636.4194,-79.6376 1625.1969,-69.5163 1614.861,-60.1947\"/>\n<polygon fill=\"#000000\" stroke=\"#000000\" points=\"1616.9291,-57.3467 1607.1589,-53.2485 1612.2409,-62.5449 1616.9291,-57.3467\"/>\n</g>\n<!-- 33 -->\n<g id=\"node34\" class=\"node\">\n<title>33</title>\n<polygon fill=\"#e58139\" stroke=\"#000000\" points=\"1729,-53 1640,-53 1640,0 1729,0 1729,-53\"/>\n<text text-anchor=\"middle\" x=\"1684.5\" y=\"-37.8\" font-family=\"Times,serif\" font-size=\"14.00\" fill=\"#000000\">mse = 0.0</text>\n<text text-anchor=\"middle\" x=\"1684.5\" y=\"-22.8\" font-family=\"Times,serif\" font-size=\"14.00\" fill=\"#000000\">samples = 1</text>\n<text text-anchor=\"middle\" x=\"1684.5\" y=\"-7.8\" font-family=\"Times,serif\" font-size=\"14.00\" fill=\"#000000\">value = 50.0</text>\n</g>\n<!-- 31&#45;&gt;33 -->\n<g id=\"edge33\" class=\"edge\">\n<title>31&#45;&gt;33</title>\n<path fill=\"none\" stroke=\"#000000\" d=\"M1684.5,-88.9777C1684.5,-80.7364 1684.5,-71.887 1684.5,-63.5153\"/>\n<polygon fill=\"#000000\" stroke=\"#000000\" points=\"1688.0001,-63.2484 1684.5,-53.2485 1681.0001,-63.2485 1688.0001,-63.2484\"/>\n</g>\n<!-- 35 -->\n<g id=\"node36\" class=\"node\">\n<title>35</title>\n<polygon fill=\"#efb387\" stroke=\"#000000\" points=\"1851.5,-53 1747.5,-53 1747.5,0 1851.5,0 1851.5,-53\"/>\n<text text-anchor=\"middle\" x=\"1799.5\" y=\"-37.8\" font-family=\"Times,serif\" font-size=\"14.00\" fill=\"#000000\">mse = 5.185</text>\n<text text-anchor=\"middle\" x=\"1799.5\" y=\"-22.8\" font-family=\"Times,serif\" font-size=\"14.00\" fill=\"#000000\">samples = 26</text>\n<text text-anchor=\"middle\" x=\"1799.5\" y=\"-7.8\" font-family=\"Times,serif\" font-size=\"14.00\" fill=\"#000000\">value = 34.127</text>\n</g>\n<!-- 34&#45;&gt;35 -->\n<g id=\"edge35\" class=\"edge\">\n<title>34&#45;&gt;35</title>\n<path fill=\"none\" stroke=\"#000000\" d=\"M1837.0514,-88.9777C1831.7678,-80.187 1826.0684,-70.7044 1820.7452,-61.8477\"/>\n<polygon fill=\"#000000\" stroke=\"#000000\" points=\"1823.7282,-60.0165 1815.5768,-53.2485 1817.7285,-63.6225 1823.7282,-60.0165\"/>\n</g>\n<!-- 36 -->\n<g id=\"node37\" class=\"node\">\n<title>36</title>\n<polygon fill=\"#f2c09b\" stroke=\"#000000\" points=\"1973.5,-53 1869.5,-53 1869.5,0 1973.5,0 1973.5,-53\"/>\n<text text-anchor=\"middle\" x=\"1921.5\" y=\"-37.8\" font-family=\"Times,serif\" font-size=\"14.00\" fill=\"#000000\">mse = 15.547</text>\n<text text-anchor=\"middle\" x=\"1921.5\" y=\"-22.8\" font-family=\"Times,serif\" font-size=\"14.00\" fill=\"#000000\">samples = 14</text>\n<text text-anchor=\"middle\" x=\"1921.5\" y=\"-7.8\" font-family=\"Times,serif\" font-size=\"14.00\" fill=\"#000000\">value = 30.036</text>\n</g>\n<!-- 34&#45;&gt;36 -->\n<g id=\"edge36\" class=\"edge\">\n<title>34&#45;&gt;36</title>\n<path fill=\"none\" stroke=\"#000000\" d=\"M1880.064,-88.9777C1885.8941,-80.187 1892.1831,-70.7044 1898.057,-61.8477\"/>\n<polygon fill=\"#000000\" stroke=\"#000000\" points=\"1901.1498,-63.5167 1903.7601,-53.2485 1895.3162,-59.6478 1901.1498,-63.5167\"/>\n</g>\n<!-- 38 -->\n<g id=\"node39\" class=\"node\">\n<title>38</title>\n<polygon fill=\"#fbeadf\" stroke=\"#000000\" points=\"2085,-157 1988,-157 1988,-89 2085,-89 2085,-157\"/>\n<text text-anchor=\"middle\" x=\"2036.5\" y=\"-141.8\" font-family=\"Times,serif\" font-size=\"14.00\" fill=\"#000000\">AGE &lt;= 98.6</text>\n<text text-anchor=\"middle\" x=\"2036.5\" y=\"-126.8\" font-family=\"Times,serif\" font-size=\"14.00\" fill=\"#000000\">mse = 1.96</text>\n<text text-anchor=\"middle\" x=\"2036.5\" y=\"-111.8\" font-family=\"Times,serif\" font-size=\"14.00\" fill=\"#000000\">samples = 2</text>\n<text text-anchor=\"middle\" x=\"2036.5\" y=\"-96.8\" font-family=\"Times,serif\" font-size=\"14.00\" fill=\"#000000\">value = 16.4</text>\n</g>\n<!-- 37&#45;&gt;38 -->\n<g id=\"edge38\" class=\"edge\">\n<title>37&#45;&gt;38</title>\n<path fill=\"none\" stroke=\"#000000\" d=\"M2036.5,-192.9465C2036.5,-184.776 2036.5,-175.9318 2036.5,-167.3697\"/>\n<polygon fill=\"#000000\" stroke=\"#000000\" points=\"2040.0001,-167.13 2036.5,-157.13 2033.0001,-167.13 2040.0001,-167.13\"/>\n</g>\n<!-- 41 -->\n<g id=\"node42\" class=\"node\">\n<title>41</title>\n<polygon fill=\"#fffdfc\" stroke=\"#000000\" points=\"2192,-149.5 2103,-149.5 2103,-96.5 2192,-96.5 2192,-149.5\"/>\n<text text-anchor=\"middle\" x=\"2147.5\" y=\"-134.3\" font-family=\"Times,serif\" font-size=\"14.00\" fill=\"#000000\">mse = 0.0</text>\n<text text-anchor=\"middle\" x=\"2147.5\" y=\"-119.3\" font-family=\"Times,serif\" font-size=\"14.00\" fill=\"#000000\">samples = 1</text>\n<text text-anchor=\"middle\" x=\"2147.5\" y=\"-104.3\" font-family=\"Times,serif\" font-size=\"14.00\" fill=\"#000000\">value = 10.4</text>\n</g>\n<!-- 37&#45;&gt;41 -->\n<g id=\"edge41\" class=\"edge\">\n<title>37&#45;&gt;41</title>\n<path fill=\"none\" stroke=\"#000000\" d=\"M2072.8456,-192.9465C2085.3072,-181.2707 2099.2374,-168.219 2111.6588,-156.5809\"/>\n<polygon fill=\"#000000\" stroke=\"#000000\" points=\"2114.2669,-158.9335 2119.1713,-149.5422 2109.4809,-153.8253 2114.2669,-158.9335\"/>\n</g>\n<!-- 39 -->\n<g id=\"node40\" class=\"node\">\n<title>39</title>\n<polygon fill=\"#fcefe5\" stroke=\"#000000\" points=\"2081,-53 1992,-53 1992,0 2081,0 2081,-53\"/>\n<text text-anchor=\"middle\" x=\"2036.5\" y=\"-37.8\" font-family=\"Times,serif\" font-size=\"14.00\" fill=\"#000000\">mse = 0.0</text>\n<text text-anchor=\"middle\" x=\"2036.5\" y=\"-22.8\" font-family=\"Times,serif\" font-size=\"14.00\" fill=\"#000000\">samples = 1</text>\n<text text-anchor=\"middle\" x=\"2036.5\" y=\"-7.8\" font-family=\"Times,serif\" font-size=\"14.00\" fill=\"#000000\">value = 15.0</text>\n</g>\n<!-- 38&#45;&gt;39 -->\n<g id=\"edge39\" class=\"edge\">\n<title>38&#45;&gt;39</title>\n<path fill=\"none\" stroke=\"#000000\" d=\"M2036.5,-88.9777C2036.5,-80.7364 2036.5,-71.887 2036.5,-63.5153\"/>\n<polygon fill=\"#000000\" stroke=\"#000000\" points=\"2040.0001,-63.2484 2036.5,-53.2485 2033.0001,-63.2485 2040.0001,-63.2484\"/>\n</g>\n<!-- 40 -->\n<g id=\"node41\" class=\"node\">\n<title>40</title>\n<polygon fill=\"#fae6d8\" stroke=\"#000000\" points=\"2188,-53 2099,-53 2099,0 2188,0 2188,-53\"/>\n<text text-anchor=\"middle\" x=\"2143.5\" y=\"-37.8\" font-family=\"Times,serif\" font-size=\"14.00\" fill=\"#000000\">mse = 0.0</text>\n<text text-anchor=\"middle\" x=\"2143.5\" y=\"-22.8\" font-family=\"Times,serif\" font-size=\"14.00\" fill=\"#000000\">samples = 1</text>\n<text text-anchor=\"middle\" x=\"2143.5\" y=\"-7.8\" font-family=\"Times,serif\" font-size=\"14.00\" fill=\"#000000\">value = 17.8</text>\n</g>\n<!-- 38&#45;&gt;40 -->\n<g id=\"edge40\" class=\"edge\">\n<title>38&#45;&gt;40</title>\n<path fill=\"none\" stroke=\"#000000\" d=\"M2074.2242,-88.9777C2084.5806,-79.6376 2095.8031,-69.5163 2106.139,-60.1947\"/>\n<polygon fill=\"#000000\" stroke=\"#000000\" points=\"2108.7591,-62.5449 2113.8411,-53.2485 2104.0709,-57.3467 2108.7591,-62.5449\"/>\n</g>\n<!-- 43 -->\n<g id=\"node44\" class=\"node\">\n<title>43</title>\n<polygon fill=\"#e88e4d\" stroke=\"#000000\" points=\"2374,-261 2247,-261 2247,-193 2374,-193 2374,-261\"/>\n<text text-anchor=\"middle\" x=\"2310.5\" y=\"-245.8\" font-family=\"Times,serif\" font-size=\"14.00\" fill=\"#000000\">PTRATIO &lt;= 17.9</text>\n<text text-anchor=\"middle\" x=\"2310.5\" y=\"-230.8\" font-family=\"Times,serif\" font-size=\"14.00\" fill=\"#000000\">mse = 19.202</text>\n<text text-anchor=\"middle\" x=\"2310.5\" y=\"-215.8\" font-family=\"Times,serif\" font-size=\"14.00\" fill=\"#000000\">samples = 28</text>\n<text text-anchor=\"middle\" x=\"2310.5\" y=\"-200.8\" font-family=\"Times,serif\" font-size=\"14.00\" fill=\"#000000\">value = 45.971</text>\n</g>\n<!-- 42&#45;&gt;43 -->\n<g id=\"edge43\" class=\"edge\">\n<title>42&#45;&gt;43</title>\n<path fill=\"none\" stroke=\"#000000\" d=\"M2310.5,-296.9465C2310.5,-288.776 2310.5,-279.9318 2310.5,-271.3697\"/>\n<polygon fill=\"#000000\" stroke=\"#000000\" points=\"2314.0001,-271.13 2310.5,-261.13 2307.0001,-271.13 2314.0001,-271.13\"/>\n</g>\n<!-- 50 -->\n<g id=\"node51\" class=\"node\">\n<title>50</title>\n<polygon fill=\"#f7d9c3\" stroke=\"#000000\" points=\"2481,-253.5 2392,-253.5 2392,-200.5 2481,-200.5 2481,-253.5\"/>\n<text text-anchor=\"middle\" x=\"2436.5\" y=\"-238.3\" font-family=\"Times,serif\" font-size=\"14.00\" fill=\"#000000\">mse = &#45;0.0</text>\n<text text-anchor=\"middle\" x=\"2436.5\" y=\"-223.3\" font-family=\"Times,serif\" font-size=\"14.00\" fill=\"#000000\">samples = 1</text>\n<text text-anchor=\"middle\" x=\"2436.5\" y=\"-208.3\" font-family=\"Times,serif\" font-size=\"14.00\" fill=\"#000000\">value = 21.9</text>\n</g>\n<!-- 42&#45;&gt;50 -->\n<g id=\"edge50\" class=\"edge\">\n<title>42&#45;&gt;50</title>\n<path fill=\"none\" stroke=\"#000000\" d=\"M2351.7571,-296.9465C2366.1697,-285.0504 2382.3127,-271.726 2396.6117,-259.9237\"/>\n<polygon fill=\"#000000\" stroke=\"#000000\" points=\"2398.8589,-262.6071 2404.3431,-253.5422 2394.4029,-257.2086 2398.8589,-262.6071\"/>\n</g>\n<!-- 44 -->\n<g id=\"node45\" class=\"node\">\n<title>44</title>\n<polygon fill=\"#e78b49\" stroke=\"#000000\" points=\"2366,-157 2255,-157 2255,-89 2366,-89 2366,-157\"/>\n<text text-anchor=\"middle\" x=\"2310.5\" y=\"-141.8\" font-family=\"Times,serif\" font-size=\"14.00\" fill=\"#000000\">CRIM &lt;= 0.577</text>\n<text text-anchor=\"middle\" x=\"2310.5\" y=\"-126.8\" font-family=\"Times,serif\" font-size=\"14.00\" fill=\"#000000\">mse = 13.628</text>\n<text text-anchor=\"middle\" x=\"2310.5\" y=\"-111.8\" font-family=\"Times,serif\" font-size=\"14.00\" fill=\"#000000\">samples = 25</text>\n<text text-anchor=\"middle\" x=\"2310.5\" y=\"-96.8\" font-family=\"Times,serif\" font-size=\"14.00\" fill=\"#000000\">value = 46.82</text>\n</g>\n<!-- 43&#45;&gt;44 -->\n<g id=\"edge44\" class=\"edge\">\n<title>43&#45;&gt;44</title>\n<path fill=\"none\" stroke=\"#000000\" d=\"M2310.5,-192.9465C2310.5,-184.776 2310.5,-175.9318 2310.5,-167.3697\"/>\n<polygon fill=\"#000000\" stroke=\"#000000\" points=\"2314.0001,-167.13 2310.5,-157.13 2307.0001,-167.13 2314.0001,-167.13\"/>\n</g>\n<!-- 47 -->\n<g id=\"node48\" class=\"node\">\n<title>47</title>\n<polygon fill=\"#eca470\" stroke=\"#000000\" points=\"2540,-157 2429,-157 2429,-89 2540,-89 2540,-157\"/>\n<text text-anchor=\"middle\" x=\"2484.5\" y=\"-141.8\" font-family=\"Times,serif\" font-size=\"14.00\" fill=\"#000000\">CRIM &lt;= 0.295</text>\n<text text-anchor=\"middle\" x=\"2484.5\" y=\"-126.8\" font-family=\"Times,serif\" font-size=\"14.00\" fill=\"#000000\">mse = 9.647</text>\n<text text-anchor=\"middle\" x=\"2484.5\" y=\"-111.8\" font-family=\"Times,serif\" font-size=\"14.00\" fill=\"#000000\">samples = 3</text>\n<text text-anchor=\"middle\" x=\"2484.5\" y=\"-96.8\" font-family=\"Times,serif\" font-size=\"14.00\" fill=\"#000000\">value = 38.9</text>\n</g>\n<!-- 43&#45;&gt;47 -->\n<g id=\"edge47\" class=\"edge\">\n<title>43&#45;&gt;47</title>\n<path fill=\"none\" stroke=\"#000000\" d=\"M2367.4741,-192.9465C2384.2699,-182.9077 2402.7673,-171.8517 2420.0002,-161.5516\"/>\n<polygon fill=\"#000000\" stroke=\"#000000\" points=\"2422.0929,-164.3784 2428.8808,-156.2436 2418.5015,-158.3698 2422.0929,-164.3784\"/>\n</g>\n<!-- 45 -->\n<g id=\"node46\" class=\"node\">\n<title>45</title>\n<polygon fill=\"#e88e4e\" stroke=\"#000000\" points=\"2310.5,-53 2206.5,-53 2206.5,0 2310.5,0 2310.5,-53\"/>\n<text text-anchor=\"middle\" x=\"2258.5\" y=\"-37.8\" font-family=\"Times,serif\" font-size=\"14.00\" fill=\"#000000\">mse = 13.73</text>\n<text text-anchor=\"middle\" x=\"2258.5\" y=\"-22.8\" font-family=\"Times,serif\" font-size=\"14.00\" fill=\"#000000\">samples = 19</text>\n<text text-anchor=\"middle\" x=\"2258.5\" y=\"-7.8\" font-family=\"Times,serif\" font-size=\"14.00\" fill=\"#000000\">value = 45.816</text>\n</g>\n<!-- 44&#45;&gt;45 -->\n<g id=\"edge45\" class=\"edge\">\n<title>44&#45;&gt;45</title>\n<path fill=\"none\" stroke=\"#000000\" d=\"M2292.1667,-88.9777C2287.4791,-80.2786 2282.4264,-70.9018 2277.6967,-62.1247\"/>\n<polygon fill=\"#000000\" stroke=\"#000000\" points=\"2280.7386,-60.3914 2272.9137,-53.2485 2274.5763,-63.7121 2280.7386,-60.3914\"/>\n</g>\n<!-- 46 -->\n<g id=\"node47\" class=\"node\">\n<title>46</title>\n<polygon fill=\"#e58139\" stroke=\"#000000\" points=\"2418,-53 2329,-53 2329,0 2418,0 2418,-53\"/>\n<text text-anchor=\"middle\" x=\"2373.5\" y=\"-37.8\" font-family=\"Times,serif\" font-size=\"14.00\" fill=\"#000000\">mse = 0.0</text>\n<text text-anchor=\"middle\" x=\"2373.5\" y=\"-22.8\" font-family=\"Times,serif\" font-size=\"14.00\" fill=\"#000000\">samples = 6</text>\n<text text-anchor=\"middle\" x=\"2373.5\" y=\"-7.8\" font-family=\"Times,serif\" font-size=\"14.00\" fill=\"#000000\">value = 50.0</text>\n</g>\n<!-- 44&#45;&gt;46 -->\n<g id=\"edge46\" class=\"edge\">\n<title>44&#45;&gt;46</title>\n<path fill=\"none\" stroke=\"#000000\" d=\"M2332.7114,-88.9777C2338.4504,-80.187 2344.6412,-70.7044 2350.4233,-61.8477\"/>\n<polygon fill=\"#000000\" stroke=\"#000000\" points=\"2353.5013,-63.5354 2356.0373,-53.2485 2347.6398,-59.7087 2353.5013,-63.5354\"/>\n</g>\n<!-- 48 -->\n<g id=\"node49\" class=\"node\">\n<title>48</title>\n<polygon fill=\"#edaa79\" stroke=\"#000000\" points=\"2533,-53 2436,-53 2436,0 2533,0 2533,-53\"/>\n<text text-anchor=\"middle\" x=\"2484.5\" y=\"-37.8\" font-family=\"Times,serif\" font-size=\"14.00\" fill=\"#000000\">mse = 3.062</text>\n<text text-anchor=\"middle\" x=\"2484.5\" y=\"-22.8\" font-family=\"Times,serif\" font-size=\"14.00\" fill=\"#000000\">samples = 2</text>\n<text text-anchor=\"middle\" x=\"2484.5\" y=\"-7.8\" font-family=\"Times,serif\" font-size=\"14.00\" fill=\"#000000\">value = 36.95</text>\n</g>\n<!-- 47&#45;&gt;48 -->\n<g id=\"edge48\" class=\"edge\">\n<title>47&#45;&gt;48</title>\n<path fill=\"none\" stroke=\"#000000\" d=\"M2484.5,-88.9777C2484.5,-80.7364 2484.5,-71.887 2484.5,-63.5153\"/>\n<polygon fill=\"#000000\" stroke=\"#000000\" points=\"2488.0001,-63.2484 2484.5,-53.2485 2481.0001,-63.2485 2488.0001,-63.2484\"/>\n</g>\n<!-- 49 -->\n<g id=\"node50\" class=\"node\">\n<title>49</title>\n<polygon fill=\"#ea985c\" stroke=\"#000000\" points=\"2640,-53 2551,-53 2551,0 2640,0 2640,-53\"/>\n<text text-anchor=\"middle\" x=\"2595.5\" y=\"-37.8\" font-family=\"Times,serif\" font-size=\"14.00\" fill=\"#000000\">mse = &#45;0.0</text>\n<text text-anchor=\"middle\" x=\"2595.5\" y=\"-22.8\" font-family=\"Times,serif\" font-size=\"14.00\" fill=\"#000000\">samples = 1</text>\n<text text-anchor=\"middle\" x=\"2595.5\" y=\"-7.8\" font-family=\"Times,serif\" font-size=\"14.00\" fill=\"#000000\">value = 42.8</text>\n</g>\n<!-- 47&#45;&gt;49 -->\n<g id=\"edge49\" class=\"edge\">\n<title>47&#45;&gt;49</title>\n<path fill=\"none\" stroke=\"#000000\" d=\"M2523.6344,-88.9777C2534.4833,-79.546 2546.2484,-69.3178 2557.0574,-59.9208\"/>\n<polygon fill=\"#000000\" stroke=\"#000000\" points=\"2559.4819,-62.4508 2564.7323,-53.2485 2554.8892,-57.1681 2559.4819,-62.4508\"/>\n</g>\n</g>\n</svg>\n"
          },
          "metadata": {
            "tags": []
          },
          "execution_count": 8
        }
      ]
    },
    {
      "cell_type": "code",
      "metadata": {
        "id": "0-JoXPZOrShJ",
        "outputId": "67fc57de-a181-4c13-a790-c8b3807917cf",
        "colab": {
          "base_uri": "https://localhost:8080/",
          "height": 204
        }
      },
      "source": [
        "pre = reg.predict(x_test)\n",
        "pre"
      ],
      "execution_count": null,
      "outputs": [
        {
          "output_type": "execute_result",
          "data": {
            "text/plain": [
              "array([ 9.81666667, 20.98515625, 13.97647059,  9.81666667, 20.98515625,\n",
              "       28.2969697 , 17.19591837, 20.98515625,  9.81666667, 14.475     ,\n",
              "       20.98515625,  9.81666667, 28.2969697 , 28.2969697 , 20.98515625,\n",
              "       14.475     , 20.98515625, 20.98515625, 13.97647059, 23.86363636,\n",
              "        9.81666667, 24.66428571,  9.81666667, 21.36      , 20.98515625,\n",
              "       34.12692308, 17.19591837, 20.98515625, 20.98515625, 20.98515625,\n",
              "       14.475     , 24.66428571,  9.81666667, 17.19591837, 20.98515625,\n",
              "       20.98515625, 28.2969697 , 20.98515625, 20.98515625, 28.2969697 ,\n",
              "       20.98515625, 20.98515625, 14.475     , 23.86363636, 23.86363636,\n",
              "        9.81666667, 20.98515625, 23.86363636, 20.98515625, 36.95      ,\n",
              "       28.2969697 ])"
            ]
          },
          "metadata": {
            "tags": []
          },
          "execution_count": 9
        }
      ]
    },
    {
      "cell_type": "markdown",
      "metadata": {
        "id": "fIQpSqpiKYwC"
      },
      "source": [
        "相較於MAE  \n",
        "RMSE對於變異數或誤差更敏感\n",
        "\n",
        "$a = \\frac{1}n \\sum (predict-element)^2$  \n",
        "$b = \\frac{1}n \\sum (average-element)^2$  \n",
        "$r_2 = \\frac{a}b$  \n",
        "\n",
        "**a**: 預測的MSE, **b**: 隨便瞎猜的MSE"
      ]
    },
    {
      "cell_type": "code",
      "metadata": {
        "id": "ue-mOXTQLIK0",
        "outputId": "76d78cd8-2f84-4ced-f6a8-baa7b4d1d00e",
        "colab": {
          "base_uri": "https://localhost:8080/",
          "height": 34
        }
      },
      "source": [
        "from sklearn.metrics import r2_score\n",
        "r2_score(pre, y_test)"
      ],
      "execution_count": null,
      "outputs": [
        {
          "output_type": "execute_result",
          "data": {
            "text/plain": [
              "0.7713141824595708"
            ]
          },
          "metadata": {
            "tags": []
          },
          "execution_count": 10
        }
      ]
    }
  ]
}