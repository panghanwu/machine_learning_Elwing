{
  "nbformat": 4,
  "nbformat_minor": 0,
  "metadata": {
    "colab": {
      "name": "naive_bayes_multinomial_news.ipynb",
      "provenance": [],
      "mount_file_id": "1b0pw6j5YD26onIkQ2OfFWfbw1ufB4spC",
      "authorship_tag": "ABX9TyMBt4nm4Au5OsocfEKkcw+t",
      "include_colab_link": true
    },
    "kernelspec": {
      "name": "python3",
      "display_name": "Python 3"
    }
  },
  "cells": [
    {
      "cell_type": "markdown",
      "metadata": {
        "id": "view-in-github",
        "colab_type": "text"
      },
      "source": [
        "<a href=\"https://colab.research.google.com/github/panghanwu/scikit-learning_tutorial_Elwing/blob/main/naive_bayes_multinomial_news.ipynb\" target=\"_parent\"><img src=\"https://colab.research.google.com/assets/colab-badge.svg\" alt=\"Open In Colab\"/></a>"
      ]
    },
    {
      "cell_type": "markdown",
      "metadata": {
        "id": "7YhdhABY5E8G"
      },
      "source": [
        "# 新聞分類"
      ]
    },
    {
      "cell_type": "code",
      "metadata": {
        "id": "cZccCIuztu9J",
        "outputId": "11230d07-a850-4ac1-f0e2-a8bf83bf9756",
        "colab": {
          "base_uri": "https://localhost:8080/"
        }
      },
      "source": [
        "import glob\n",
        "# glob:探測檔案路徑 \n",
        "glob.glob('drive/My Drive/Colab Notebooks/Elwings_tutorial/*')"
      ],
      "execution_count": null,
      "outputs": [
        {
          "output_type": "execute_result",
          "data": {
            "text/plain": [
              "['drive/My Drive/Colab Notebooks/Elwings_tutorial/naive_bayes_multinomial.ipynb',\n",
              " 'drive/My Drive/Colab Notebooks/Elwings_tutorial/regression.ipynb',\n",
              " 'drive/My Drive/Colab Notebooks/Elwings_tutorial/classification.ipynb',\n",
              " 'drive/My Drive/Colab Notebooks/Elwings_tutorial/cluster.ipynb',\n",
              " 'drive/My Drive/Colab Notebooks/Elwings_tutorial/tools.ipynb',\n",
              " 'drive/My Drive/Colab Notebooks/Elwings_tutorial/chinese_news_trans.zip',\n",
              " 'drive/My Drive/Colab Notebooks/Elwings_tutorial/chinese_news_test.zip']"
            ]
          },
          "metadata": {
            "tags": []
          },
          "execution_count": 3
        }
      ]
    },
    {
      "cell_type": "code",
      "metadata": {
        "id": "tyzbhwGpx6wS"
      },
      "source": [
        "import zipfile\n",
        "# 解壓縮\n",
        "path = 'drive/My Drive/Colab Notebooks/Elwings_tutorial/chinese_news_trans.zip'\n",
        "f = zipfile.ZipFile(path)\n",
        "f.extractall()\n",
        "path = 'drive/My Drive/Colab Notebooks/Elwings_tutorial/chinese_news_test.zip'\n",
        "f = zipfile.ZipFile(path)\n",
        "f.extractall()"
      ],
      "execution_count": null,
      "outputs": []
    },
    {
      "cell_type": "code",
      "metadata": {
        "id": "lqDfs5JjzLRx",
        "outputId": "d37a4812-08cf-4bc7-88fa-1c67a0d8be79",
        "colab": {
          "base_uri": "https://localhost:8080/"
        }
      },
      "source": [
        "glob.glob('chinese_news_test/*')"
      ],
      "execution_count": null,
      "outputs": [
        {
          "output_type": "execute_result",
          "data": {
            "text/plain": [
              "['chinese_news_test/環境',\n",
              " 'chinese_news_test/體育',\n",
              " 'chinese_news_test/交通',\n",
              " 'chinese_news_test/醫藥',\n",
              " 'chinese_news_test/軍事',\n",
              " 'chinese_news_test/藝術',\n",
              " 'chinese_news_test/計算機',\n",
              " 'chinese_news_test/教育',\n",
              " 'chinese_news_test/政治',\n",
              " 'chinese_news_test/經濟']"
            ]
          },
          "metadata": {
            "tags": []
          },
          "execution_count": 5
        }
      ]
    },
    {
      "cell_type": "code",
      "metadata": {
        "id": "ih0Ja6cEzbyJ",
        "outputId": "47f26fed-f697-4b47-c4bb-f537c4f8dbc6",
        "colab": {
          "base_uri": "https://localhost:8080/",
          "height": 419
        }
      },
      "source": [
        "import os\n",
        "import pandas as pd\n",
        "\n",
        "def read_data(base):\n",
        "  contents, targets = [], []\n",
        "  basedn = os.path.join(base, '*')\n",
        "  for dn in glob.glob(basedn):\n",
        "    upper = os.path.join(dn, '*.TXT')\n",
        "    lower = os.path.join(dn, '*.txt')\n",
        "    for fn in glob.glob(upper) + glob.glob(lower):\n",
        "      with open(fn, 'r', encoding='utf-8') as f:\n",
        "        contents.append(f.read())\n",
        "      target = os.path.split(dn)[-1]\n",
        "      targets.append(target)\n",
        "\n",
        "  df = pd.DataFrame({\n",
        "      'content': contents,\n",
        "      'target': targets\n",
        "  })\n",
        "  return df\n",
        "\n",
        "train_df = read_data('chinese_news_trans')\n",
        "test_df = read_data('chinese_news_test')\n",
        "train_df"
      ],
      "execution_count": null,
      "outputs": [
        {
          "output_type": "execute_result",
          "data": {
            "text/html": [
              "<div>\n",
              "<style scoped>\n",
              "    .dataframe tbody tr th:only-of-type {\n",
              "        vertical-align: middle;\n",
              "    }\n",
              "\n",
              "    .dataframe tbody tr th {\n",
              "        vertical-align: top;\n",
              "    }\n",
              "\n",
              "    .dataframe thead th {\n",
              "        text-align: right;\n",
              "    }\n",
              "</style>\n",
              "<table border=\"1\" class=\"dataframe\">\n",
              "  <thead>\n",
              "    <tr style=\"text-align: right;\">\n",
              "      <th></th>\n",
              "      <th>content</th>\n",
              "      <th>target</th>\n",
              "    </tr>\n",
              "  </thead>\n",
              "  <tbody>\n",
              "    <tr>\n",
              "      <th>0</th>\n",
              "      <td>《瞭望》週刊文章：一個全球性的環境問題——垃圾\\n新華社北京５月１２日...</td>\n",
              "      <td>環境</td>\n",
              "    </tr>\n",
              "    <tr>\n",
              "      <th>1</th>\n",
              "      <td>英國確定溫室效應政策\\n新華社倫敦５月２５日電為了對付由於溫室效應引起...</td>\n",
              "      <td>環境</td>\n",
              "    </tr>\n",
              "    <tr>\n",
              "      <th>2</th>\n",
              "      <td>【 日  期 】19960610\\n【 版  號 】10\\n【 標  題 】海南人的藍色樂章...</td>\n",
              "      <td>環境</td>\n",
              "    </tr>\n",
              "    <tr>\n",
              "      <th>3</th>\n",
              "      <td>經國務院批准我國長江中上游防護林體系建設工程全\\n面展開\\n    (...</td>\n",
              "      <td>環境</td>\n",
              "    </tr>\n",
              "    <tr>\n",
              "      <th>4</th>\n",
              "      <td>【 日  期 】19960105\\n【 版  號 】7\\n【 標  題 】科學家選出２０種最...</td>\n",
              "      <td>環境</td>\n",
              "    </tr>\n",
              "    <tr>\n",
              "      <th>...</th>\n",
              "      <td>...</td>\n",
              "      <td>...</td>\n",
              "    </tr>\n",
              "    <tr>\n",
              "      <th>2632</th>\n",
              "      <td>日月光華 -- Economics精華區文章閱讀\\n--------------------...</td>\n",
              "      <td>經濟</td>\n",
              "    </tr>\n",
              "    <tr>\n",
              "      <th>2633</th>\n",
              "      <td>日月光華 -- Economics精華區文章閱讀\\n--------------------...</td>\n",
              "      <td>經濟</td>\n",
              "    </tr>\n",
              "    <tr>\n",
              "      <th>2634</th>\n",
              "      <td>日月光華 -- Economics精華區文章閱讀\\n--------------------...</td>\n",
              "      <td>經濟</td>\n",
              "    </tr>\n",
              "    <tr>\n",
              "      <th>2635</th>\n",
              "      <td>日月光華 -- Economics精華區文章閱讀\\n--------------------...</td>\n",
              "      <td>經濟</td>\n",
              "    </tr>\n",
              "    <tr>\n",
              "      <th>2636</th>\n",
              "      <td>日月光華 -- Economics精華區文章閱讀\\n--------------------...</td>\n",
              "      <td>經濟</td>\n",
              "    </tr>\n",
              "  </tbody>\n",
              "</table>\n",
              "<p>2637 rows × 2 columns</p>\n",
              "</div>"
            ],
            "text/plain": [
              "                                                content target\n",
              "0                《瞭望》週刊文章：一個全球性的環境問題——垃圾\\n新華社北京５月１２日...     環境\n",
              "1                英國確定溫室效應政策\\n新華社倫敦５月２５日電為了對付由於溫室效應引起...     環境\n",
              "2     【 日  期 】19960610\\n【 版  號 】10\\n【 標  題 】海南人的藍色樂章...     環境\n",
              "3                經國務院批准我國長江中上游防護林體系建設工程全\\n面展開\\n    (...     環境\n",
              "4     【 日  期 】19960105\\n【 版  號 】7\\n【 標  題 】科學家選出２０種最...     環境\n",
              "...                                                 ...    ...\n",
              "2632  日月光華 -- Economics精華區文章閱讀\\n--------------------...     經濟\n",
              "2633  日月光華 -- Economics精華區文章閱讀\\n--------------------...     經濟\n",
              "2634  日月光華 -- Economics精華區文章閱讀\\n--------------------...     經濟\n",
              "2635  日月光華 -- Economics精華區文章閱讀\\n--------------------...     經濟\n",
              "2636  日月光華 -- Economics精華區文章閱讀\\n--------------------...     經濟\n",
              "\n",
              "[2637 rows x 2 columns]"
            ]
          },
          "metadata": {
            "tags": []
          },
          "execution_count": 13
        }
      ]
    },
    {
      "cell_type": "code",
      "metadata": {
        "id": "0MRLFo8T131o",
        "outputId": "4ea10b58-b674-430c-c58c-b314758fdd58",
        "colab": {
          "base_uri": "https://localhost:8080/"
        }
      },
      "source": [
        "category = train_df['target'].unique()\n",
        "category"
      ],
      "execution_count": null,
      "outputs": [
        {
          "output_type": "execute_result",
          "data": {
            "text/plain": [
              "array(['環境', '體育', '交通', '醫藥', '軍事', '藝術', '計算機', '教育', '政治', '經濟'],\n",
              "      dtype=object)"
            ]
          },
          "metadata": {
            "tags": []
          },
          "execution_count": 14
        }
      ]
    },
    {
      "cell_type": "code",
      "metadata": {
        "id": "QcTO4u-_4RNf",
        "outputId": "f77d6d39-d439-44d3-93c3-f34d4323aae6",
        "colab": {
          "base_uri": "https://localhost:8080/"
        }
      },
      "source": [
        "trans = {w:i for i, w in enumerate(category)}\n",
        "trans"
      ],
      "execution_count": null,
      "outputs": [
        {
          "output_type": "execute_result",
          "data": {
            "text/plain": [
              "{'交通': 2,\n",
              " '政治': 8,\n",
              " '教育': 7,\n",
              " '環境': 0,\n",
              " '經濟': 9,\n",
              " '藝術': 5,\n",
              " '計算機': 6,\n",
              " '軍事': 4,\n",
              " '醫藥': 3,\n",
              " '體育': 1}"
            ]
          },
          "metadata": {
            "tags": []
          },
          "execution_count": 16
        }
      ]
    },
    {
      "cell_type": "code",
      "metadata": {
        "id": "hSnZj3am4WhD",
        "outputId": "45445153-24e8-4077-9a6f-f17de778776c",
        "colab": {
          "base_uri": "https://localhost:8080/"
        }
      },
      "source": [
        "y_train = train_df['target'].replace(trans)\n",
        "y_test = test_df['target'].replace(trans)\n",
        "y_test"
      ],
      "execution_count": null,
      "outputs": [
        {
          "output_type": "execute_result",
          "data": {
            "text/plain": [
              "0      0\n",
              "1      0\n",
              "2      0\n",
              "3      0\n",
              "4      0\n",
              "      ..\n",
              "96     9\n",
              "97     9\n",
              "98     9\n",
              "99     9\n",
              "100    9\n",
              "Name: target, Length: 101, dtype: int64"
            ]
          },
          "metadata": {
            "tags": []
          },
          "execution_count": 17
        }
      ]
    },
    {
      "cell_type": "code",
      "metadata": {
        "id": "okiQ4JKB4fIj",
        "outputId": "616ea475-20cb-461a-f0dd-66711d63e1cc",
        "colab": {
          "base_uri": "https://localhost:8080/",
          "height": 137
        }
      },
      "source": [
        "# test single\n",
        "p = train_df['content'][0]\n",
        "p"
      ],
      "execution_count": null,
      "outputs": [
        {
          "output_type": "execute_result",
          "data": {
            "application/vnd.google.colaboratory.intrinsic+json": {
              "type": "string"
            },
            "text/plain": [
              "'           《瞭望》週刊文章：一個全球性的環境問題——垃圾\\n新華社北京５月１２日電５月１４日出版的第２０期\\n             《瞭望》週刊將發表署名文章《一個全球性的環境問題》\\n             。文章摘要如下：\\n                 目前，世界各國拋棄的垃圾越來越多，也越來越難處\\n             理。據估計，全球每年新增的垃圾有１００億噸左右，人\\n             均２噸。\\n                 世界上產生垃圾最多的是美國、聯邦德國、英國和日\\n             本。僅美國，每年產生工業垃圾２０億噸以上，城市居民\\n             垃圾２·２億噸，丟棄的舊汽車１０００多萬輛，廢輪胎\\n             上億隻，全國垃圾佔地面積１·１８萬平方公里。華盛頓\\n             曾有一家環保機構驚呼：到９０年代末，美國將有一半以\\n             上的城市無處傾倒垃圾！\\n                 有人形象地說，垃圾“無孔不入”。就連被認為全球\\n             淨土的珠穆朗瑪峰、南極，都有垃圾“光顧”。近年來，\\n             垃圾又在太空“安家落戶”。自１９５７年蘇聯發射第一\\n             顆人造衛星以來，人類在地球周圍的空間留下了大量的太\\n             空廢物。據觀測，在太空軌道上有７２００個１０釐米大\\n             小以上的廢物碎塊在運轉，這些高速運轉的太空垃圾，成\\n             為危險的“飄遊炸彈”。\\n                 垃圾不僅有礙觀瞻，佔用大量土地，更重要的是汙染\\n             環境，危害人們健康。\\n                 地球上的危險廢物正在以每年５億噸的速度增加。危\\n             險廢物主要產於西方工業化國家，其產量佔全世界總產量\\n             的百分之九十。堆積如山的危險廢料，日益強烈的環保呼\\n             聲，十分高昂的處理代價以及有限的處理能力，使歐美國\\n             家紛紛向外謀求出路。目前，每５分鐘就有一船危險廢物\\n             跨越國界。第三世界國家是危險廢物跨境活動的最大受害\\n             者。１９８６年—１９８８年間，工業化國家往第三世界\\n             國家輸出的危險廢物達６００萬噸之多。第三世界國家已\\n             成為西方工業化國家危險廢物的堆放地。近年來，越來越\\n             多的第三世界國家認識到了這一嚴重的危害性，紛紛起來\\n             抵制工業化國家傾倒危險廢物，要求建立危險廢物跨境國\\n             際法規。這一問題引起了聯合國環境規劃署的重視，目前\\n             正在組織起草兩個國際公約，以徹底制止向第三世界國家\\n             傾倒有毒廢物。\\n                 面對垃圾的困擾，人們越來越意識到，最好的辦法就\\n             是進行有效的處理和利用。實際上，垃圾的處理和利用有\\n             悠久的歷史。早在公元前３０００年—１０００年古希臘\\n             米諾斯文明時期，克里特島的首府諾薩斯即有將垃圾覆土\\n             埋入大坑的處理。中國、印度等亞洲國家，自古以來就有\\n             利用糞便和垃圾作堆肥的處置方法。７０年代以來，人們\\n             提出了“資源循環利用”的觀點。此後在世界許多國家，\\n             垃圾問題引起了政府部門的重視，有關垃圾的專門管理機\\n             構和科學研究機構及其制定的法規也應運而生。目前，垃\\n             圾的主要處置方法有５種：露天堆存、圍隔堆存、填埋、\\n             焚化和生物降解。\\n                 就世界而言，垃圾問題在今後相當長的時期內仍然是\\n             困擾人類的重大社會環境問題。雖然工業化國家的垃圾部\\n             分得到了處理，但是問題遠遠沒有解決。即使在處理過程\\n             中，有些處理方式還會造成二次汙染。據歐共體委員會統\\n             計，１２個成員國的５２０座垃圾焚化廠每年排放塵埃２\\n             ·８萬噸、鉛５７０噸、氯化氫１４４噸、汞６８噸、鎘\\n             ３１噸，嚴重汙染了生態環境。第三世界國家目前尚無足\\n             夠的經濟能力和技術水平來大量處理和利用垃圾。一些有\\n             識之士呼籲，世界各國政府和人民必須共同努力，一道來\\n             解決這個可能遺患後人的全球問題。（完）\\n\\n'"
            ]
          },
          "metadata": {
            "tags": []
          },
          "execution_count": 18
        }
      ]
    },
    {
      "cell_type": "code",
      "metadata": {
        "id": "4NiJOPfD4uNx",
        "outputId": "1a2bfa1f-2039-4b7f-84d5-785cae757eff",
        "colab": {
          "base_uri": "https://localhost:8080/",
          "height": 188
        }
      },
      "source": [
        "import jieba\n",
        "from urllib.request import urlretrieve\n",
        "\n",
        "if not os.path.exists('dict.txt.big'):\n",
        "    url = 'https://github.com/fxsjy/jieba/raw/master/extra_dict/dict.txt.big'\n",
        "    urlretrieve(url, 'dict.txt.big')\n",
        "jieba.set_dictionary('dict.txt.big')  # 繁體大詞典\n",
        "\n",
        "' '.join(jieba.cut(p))"
      ],
      "execution_count": null,
      "outputs": [
        {
          "output_type": "stream",
          "text": [
            "Building prefix dict from /content/dict.txt.big ...\n",
            "Dumping model to file cache /tmp/jieba.u501edca284da514cb68b53a20324f4e3.cache\n",
            "Loading model cost 1.520 seconds.\n",
            "Prefix dict has been built successfully.\n"
          ],
          "name": "stderr"
        },
        {
          "output_type": "execute_result",
          "data": {
            "application/vnd.google.colaboratory.intrinsic+json": {
              "type": "string"
            },
            "text/plain": [
              "'                      《 瞭望 》 週刊 文章 ： 一個 全球性 的 環境 問題 — — 垃圾 \\n 新華社 北京 ５ 月 １ ２ 日電 ５ 月 １ ４ 日 出版 的 第 ２ ０ 期 \\n                           《 瞭望 》 週刊 將 發表 署名文章 《 一個 全球性 的 環境 問題 》 \\n                           。 文章 摘要 如下 ： \\n                                   目前 ， 世界 各國 拋棄 的 垃圾 越來越 多 ， 也 越來越 難處 \\n                           理 。 據估計 ， 全球 每年 新增 的 垃圾 有 １ ０ ０ 億噸 左右 ， 人 \\n                           均 ２ 噸 。 \\n                                   世界 上 產生 垃圾 最多 的 是 美國 、 聯邦德國 、 英國 和 日 \\n                           本 。 僅 美國 ， 每年 產生 工業 垃圾 ２ ０ 億噸 以上 ， 城市居民 \\n                           垃圾 ２ · ２ 億噸 ， 丟棄 的 舊 汽車 １ ０ ０ ０ 多萬輛 ， 廢輪胎 \\n                           上 億隻 ， 全國 垃圾 佔地面積 １ · １ ８ 萬平方公里 。 華盛頓 \\n                           曾 有 一家 環保 機構 驚呼 ： 到 ９ ０ 年代 末 ， 美國 將有 一半 以 \\n                           上 的 城市 無處 傾倒垃圾 ！ \\n                                   有人 形象 地說 ， 垃圾 “ 無孔不入 ” 。 就連 被 認為 全球 \\n                           淨土 的 珠穆朗瑪 峰 、 南極 ， 都 有 垃圾 “ 光顧 ” 。 近年來 ， \\n                           垃圾 又 在 太空 “ 安家落戶 ” 。 自 １ ９ ５ ７ 年 蘇聯 發射 第一 \\n                           顆 人造衛星 以來 ， 人類 在 地球 周圍 的 空間 留下 了 大量 的 太 \\n                           空 廢物 。 據 觀測 ， 在 太空 軌道 上 有 ７ ２ ０ ０ 個 １ ０ 釐米 大 \\n                           小 以上 的 廢物 碎塊 在 運轉 ， 這些 高速運轉 的 太空 垃圾 ， 成 \\n                           為 危險 的 “ 飄遊 炸彈 ” 。 \\n                                   垃圾 不僅 有礙觀瞻 ， 佔用 大量 土地 ， 更 重要 的 是 汙染 \\n                           環境 ， 危害 人們 健康 。 \\n                                   地球 上 的 危險廢物 正在 以 每年 ５ 億噸 的 速度 增加 。 危 \\n                           險 廢物 主要 產於 西方 工業化 國家 ， 其 產量 佔 全世界 總產量 \\n                           的 百分之九十 。 堆積如山 的 危險 廢料 ， 日益 強烈 的 環保 呼 \\n                           聲 ， 十分 高昂 的 處理 代價 以及 有限 的 處理 能力 ， 使歐 美國 \\n                           家 紛紛 向外 謀求 出路 。 目前 ， 每 ５ 分鐘 就 有 一船 危險廢物 \\n                           跨越國界 。 第三世界 國家 是 危險廢物 跨境 活動 的 最大 受害 \\n                           者 。 １ ９ ８ ６ 年 — １ ９ ８ ８ 年間 ， 工業化 國家 往 第三世界 \\n                           國家 輸出 的 危險廢物 達 ６ ０ ０ 萬噸 之多 。 第三世界 國家 已 \\n                           成為 西方 工業化 國家 危險廢物 的 堆放 地 。 近年來 ， 越來越 \\n                           多 的 第三世界 國家 認識 到 了 這一 嚴重 的 危害性 ， 紛紛 起來 \\n                           抵制 工業化 國家 傾倒 危險廢物 ， 要求 建立 危險廢物 跨境 國 \\n                           際 法規 。 這一 問題 引起 了 聯合國環境規劃署 的 重視 ， 目前 \\n                           正在 組織 起草 兩個 國際公約 ， 以 徹底 制止 向 第三世界 國家 \\n                           傾倒 有毒 廢物 。 \\n                                   面對 垃圾 的 困擾 ， 人們 越來越 意識 到 ， 最好 的 辦法 就 \\n                           是 進行 有效 的 處理 和 利用 。 實際上 ， 垃圾 的 處理 和 利用 有 \\n                           悠久 的 歷史 。 早 在 公元前 ３ ０ ０ ０ 年 — １ ０ ０ ０ 年 古希臘 \\n                           米諾斯 文明 時期 ， 克里特島 的 首府 諾薩斯 即 有將 垃圾 覆土 \\n                           埋入 大坑 的 處理 。 中國 、 印度 等 亞洲 國家 ， 自古以來 就 有 \\n                           利用 糞便 和 垃圾 作 堆肥 的 處置 方法 。 ７ ０ 年代 以來 ， 人們 \\n                           提出 了 “ 資源 循環 利用 ” 的 觀點 。 此後 在 世界 許多 國家 ， \\n                           垃圾 問題 引起 了 政府部門 的 重視 ， 有關 垃圾 的 專門 管理 機 \\n                           構和 科學研究 機構 及其 制定 的 法規 也 應運而生 。 目前 ， 垃 \\n                           圾 的 主要 處置 方法 有 ５ 種 ： 露天 堆存 、 圍隔 堆存 、 填埋 、 \\n                           焚化 和 生物降解 。 \\n                                   就 世界 而言 ， 垃圾 問題 在 今後 相當 長 的 時期 內 仍然 是 \\n                           困擾 人類 的 重大 社會 環境 問題 。 雖然 工業化 國家 的 垃圾 部 \\n                           分 得到 了 處理 ， 但是 問題 遠遠 沒有 解決 。 即使 在 處理過程 \\n                           中 ， 有些 處理方式 還會 造成 二次 汙染 。 據 歐共體 委員會 統 \\n                           計 ， １ ２ 個 成員國 的 ５ ２ ０ 座 垃圾 焚化 廠 每年 排放 塵埃 ２ \\n                           · ８ 萬噸 、 鉛 ５ ７ ０ 噸 、 氯化氫 １ ４ ４ 噸 、 汞 ６ ８ 噸 、 鎘 \\n                           ３ １ 噸 ， 嚴重 汙染 了 生態環境 。 第三世界 國家 目前 尚無 足 \\n                           夠的 經濟 能力 和 技術水平 來 大量 處理 和 利用 垃圾 。 一些 有 \\n                           識之士 呼籲 ， 世界 各國 政府 和 人民 必須 共同努力 ， 一道 來 \\n                           解決 這個 可能 遺患 後人 的 全球 問題 。 （ 完 ） \\n \\n'"
            ]
          },
          "metadata": {
            "tags": []
          },
          "execution_count": 30
        }
      ]
    },
    {
      "cell_type": "code",
      "metadata": {
        "id": "69ZTdvVP4w3N",
        "outputId": "c51c9780-34c2-4478-81ab-4bbe7668a85a",
        "colab": {
          "base_uri": "https://localhost:8080/"
        }
      },
      "source": [
        "def multi_cut(p):\n",
        "  return ' '.join(jieba.cut(p))\n",
        "\n",
        "x_train = train_df['content'].apply(multi_cut)\n",
        "x_test = test_df['content'].apply(multi_cut)\n",
        "x_test"
      ],
      "execution_count": null,
      "outputs": [
        {
          "output_type": "execute_result",
          "data": {
            "text/plain": [
              "0      日月 光華   --   FDU _ E . S . E . 精華區 文章 閱讀 \\n --...\n",
              "1      日月 光華   --   FDU _ E . S . E . 精華區 文章 閱讀 \\n --...\n",
              "2      日月 光華   --   FDU _ E . S . E . 精華區 文章 閱讀 \\n --...\n",
              "3      日月 光華   --   FDU _ E . S . E . 精華區 文章 閱讀 \\n --...\n",
              "4      日月 光華   --   FDU _ E . S . E . 精華區 文章 閱讀 \\n --...\n",
              "                             ...                        \n",
              "96     日月 光華   --   Economics 精華區 文章 閱讀 \\n ----------...\n",
              "97     日月 光華   --   Economics 精華區 文章 閱讀 \\n ----------...\n",
              "98     日月 光華   --   Economics 精華區 文章 閱讀 \\n ----------...\n",
              "99     日月 光華   --   Economics 精華區 文章 閱讀 \\n ----------...\n",
              "100    日月 光華   --   Economics 精華區 文章 閱讀 \\n ----------...\n",
              "Name: content, Length: 101, dtype: object"
            ]
          },
          "metadata": {
            "tags": []
          },
          "execution_count": 31
        }
      ]
    },
    {
      "cell_type": "code",
      "metadata": {
        "id": "qL95JM-v48GN"
      },
      "source": [
        "from sklearn.feature_extraction.text import CountVectorizer\n",
        "vec = CountVectorizer()\n",
        "x_train_count = vec.fit_transform(x_train)\n",
        "x_test_count = vec.transform(x_test)"
      ],
      "execution_count": null,
      "outputs": []
    },
    {
      "cell_type": "code",
      "metadata": {
        "id": "JZDC2tx55MO3",
        "outputId": "d64d9046-8e6b-49af-e251-9126c023d3ba",
        "colab": {
          "base_uri": "https://localhost:8080/",
          "height": 165
        }
      },
      "source": [
        "vec.vocabulary_['\\n']"
      ],
      "execution_count": null,
      "outputs": [
        {
          "output_type": "error",
          "ename": "KeyError",
          "evalue": "ignored",
          "traceback": [
            "\u001b[0;31m---------------------------------------------------------------------------\u001b[0m",
            "\u001b[0;31mKeyError\u001b[0m                                  Traceback (most recent call last)",
            "\u001b[0;32m<ipython-input-23-a0f8cd99f219>\u001b[0m in \u001b[0;36m<module>\u001b[0;34m()\u001b[0m\n\u001b[0;32m----> 1\u001b[0;31m \u001b[0mvec\u001b[0m\u001b[0;34m.\u001b[0m\u001b[0mvocabulary_\u001b[0m\u001b[0;34m[\u001b[0m\u001b[0;34m'\\n'\u001b[0m\u001b[0;34m]\u001b[0m\u001b[0;34m\u001b[0m\u001b[0;34m\u001b[0m\u001b[0m\n\u001b[0m",
            "\u001b[0;31mKeyError\u001b[0m: '\\n'"
          ]
        }
      ]
    },
    {
      "cell_type": "code",
      "metadata": {
        "id": "9XfXB3q35aEx",
        "outputId": "16b71121-6585-4bb2-fee6-c805a4988041",
        "colab": {
          "base_uri": "https://localhost:8080/"
        }
      },
      "source": [
        "from sklearn.naive_bayes import MultinomialNB\n",
        "clf = MultinomialNB(alpha=0.5)\n",
        "clf.fit(x_train_count, y_train)"
      ],
      "execution_count": null,
      "outputs": [
        {
          "output_type": "execute_result",
          "data": {
            "text/plain": [
              "MultinomialNB(alpha=0.5, class_prior=None, fit_prior=True)"
            ]
          },
          "metadata": {
            "tags": []
          },
          "execution_count": 33
        }
      ]
    },
    {
      "cell_type": "code",
      "metadata": {
        "id": "f6bjm6IG5TX3",
        "outputId": "aabd32a7-91e9-49b3-e0e9-b78089782692",
        "colab": {
          "base_uri": "https://localhost:8080/"
        }
      },
      "source": [
        "from sklearn.metrics import accuracy_score\n",
        "pre = clf.predict(x_test_count)\n",
        "accuracy_score(pre, y_test)"
      ],
      "execution_count": null,
      "outputs": [
        {
          "output_type": "execute_result",
          "data": {
            "text/plain": [
              "1.0"
            ]
          },
          "metadata": {
            "tags": []
          },
          "execution_count": 34
        }
      ]
    },
    {
      "cell_type": "code",
      "metadata": {
        "id": "T-YGPTSL5VYH",
        "outputId": "7d00b2c7-74b2-41c8-c255-ec2202107440",
        "colab": {
          "base_uri": "https://localhost:8080/",
          "height": 359
        }
      },
      "source": [
        "from sklearn.metrics import confusion_matrix\n",
        "# 混淆矩陣\n",
        "mat = confusion_matrix(y_test, pre)\n",
        "pd.DataFrame(mat,\n",
        "      index=[name + '(原本)' for name in category],\n",
        "      columns=[name + '(預測)' for name in category])"
      ],
      "execution_count": null,
      "outputs": [
        {
          "output_type": "execute_result",
          "data": {
            "text/html": [
              "<div>\n",
              "<style scoped>\n",
              "    .dataframe tbody tr th:only-of-type {\n",
              "        vertical-align: middle;\n",
              "    }\n",
              "\n",
              "    .dataframe tbody tr th {\n",
              "        vertical-align: top;\n",
              "    }\n",
              "\n",
              "    .dataframe thead th {\n",
              "        text-align: right;\n",
              "    }\n",
              "</style>\n",
              "<table border=\"1\" class=\"dataframe\">\n",
              "  <thead>\n",
              "    <tr style=\"text-align: right;\">\n",
              "      <th></th>\n",
              "      <th>環境(預測)</th>\n",
              "      <th>體育(預測)</th>\n",
              "      <th>交通(預測)</th>\n",
              "      <th>醫藥(預測)</th>\n",
              "      <th>軍事(預測)</th>\n",
              "      <th>藝術(預測)</th>\n",
              "      <th>計算機(預測)</th>\n",
              "      <th>教育(預測)</th>\n",
              "      <th>政治(預測)</th>\n",
              "      <th>經濟(預測)</th>\n",
              "    </tr>\n",
              "  </thead>\n",
              "  <tbody>\n",
              "    <tr>\n",
              "      <th>環境(原本)</th>\n",
              "      <td>10</td>\n",
              "      <td>0</td>\n",
              "      <td>0</td>\n",
              "      <td>0</td>\n",
              "      <td>0</td>\n",
              "      <td>0</td>\n",
              "      <td>0</td>\n",
              "      <td>0</td>\n",
              "      <td>0</td>\n",
              "      <td>0</td>\n",
              "    </tr>\n",
              "    <tr>\n",
              "      <th>體育(原本)</th>\n",
              "      <td>0</td>\n",
              "      <td>10</td>\n",
              "      <td>0</td>\n",
              "      <td>0</td>\n",
              "      <td>0</td>\n",
              "      <td>0</td>\n",
              "      <td>0</td>\n",
              "      <td>0</td>\n",
              "      <td>0</td>\n",
              "      <td>0</td>\n",
              "    </tr>\n",
              "    <tr>\n",
              "      <th>交通(原本)</th>\n",
              "      <td>0</td>\n",
              "      <td>0</td>\n",
              "      <td>10</td>\n",
              "      <td>0</td>\n",
              "      <td>0</td>\n",
              "      <td>0</td>\n",
              "      <td>0</td>\n",
              "      <td>0</td>\n",
              "      <td>0</td>\n",
              "      <td>0</td>\n",
              "    </tr>\n",
              "    <tr>\n",
              "      <th>醫藥(原本)</th>\n",
              "      <td>0</td>\n",
              "      <td>0</td>\n",
              "      <td>0</td>\n",
              "      <td>10</td>\n",
              "      <td>0</td>\n",
              "      <td>0</td>\n",
              "      <td>0</td>\n",
              "      <td>0</td>\n",
              "      <td>0</td>\n",
              "      <td>0</td>\n",
              "    </tr>\n",
              "    <tr>\n",
              "      <th>軍事(原本)</th>\n",
              "      <td>0</td>\n",
              "      <td>0</td>\n",
              "      <td>0</td>\n",
              "      <td>0</td>\n",
              "      <td>10</td>\n",
              "      <td>0</td>\n",
              "      <td>0</td>\n",
              "      <td>0</td>\n",
              "      <td>0</td>\n",
              "      <td>0</td>\n",
              "    </tr>\n",
              "    <tr>\n",
              "      <th>藝術(原本)</th>\n",
              "      <td>0</td>\n",
              "      <td>0</td>\n",
              "      <td>0</td>\n",
              "      <td>0</td>\n",
              "      <td>0</td>\n",
              "      <td>10</td>\n",
              "      <td>0</td>\n",
              "      <td>0</td>\n",
              "      <td>0</td>\n",
              "      <td>0</td>\n",
              "    </tr>\n",
              "    <tr>\n",
              "      <th>計算機(原本)</th>\n",
              "      <td>0</td>\n",
              "      <td>0</td>\n",
              "      <td>0</td>\n",
              "      <td>0</td>\n",
              "      <td>0</td>\n",
              "      <td>0</td>\n",
              "      <td>10</td>\n",
              "      <td>0</td>\n",
              "      <td>0</td>\n",
              "      <td>0</td>\n",
              "    </tr>\n",
              "    <tr>\n",
              "      <th>教育(原本)</th>\n",
              "      <td>0</td>\n",
              "      <td>0</td>\n",
              "      <td>0</td>\n",
              "      <td>0</td>\n",
              "      <td>0</td>\n",
              "      <td>0</td>\n",
              "      <td>0</td>\n",
              "      <td>10</td>\n",
              "      <td>0</td>\n",
              "      <td>0</td>\n",
              "    </tr>\n",
              "    <tr>\n",
              "      <th>政治(原本)</th>\n",
              "      <td>0</td>\n",
              "      <td>0</td>\n",
              "      <td>0</td>\n",
              "      <td>0</td>\n",
              "      <td>0</td>\n",
              "      <td>0</td>\n",
              "      <td>0</td>\n",
              "      <td>0</td>\n",
              "      <td>11</td>\n",
              "      <td>0</td>\n",
              "    </tr>\n",
              "    <tr>\n",
              "      <th>經濟(原本)</th>\n",
              "      <td>0</td>\n",
              "      <td>0</td>\n",
              "      <td>0</td>\n",
              "      <td>0</td>\n",
              "      <td>0</td>\n",
              "      <td>0</td>\n",
              "      <td>0</td>\n",
              "      <td>0</td>\n",
              "      <td>0</td>\n",
              "      <td>10</td>\n",
              "    </tr>\n",
              "  </tbody>\n",
              "</table>\n",
              "</div>"
            ],
            "text/plain": [
              "         環境(預測)  體育(預測)  交通(預測)  醫藥(預測)  ...  計算機(預測)  教育(預測)  政治(預測)  經濟(預測)\n",
              "環境(原本)       10       0       0       0  ...        0       0       0       0\n",
              "體育(原本)        0      10       0       0  ...        0       0       0       0\n",
              "交通(原本)        0       0      10       0  ...        0       0       0       0\n",
              "醫藥(原本)        0       0       0      10  ...        0       0       0       0\n",
              "軍事(原本)        0       0       0       0  ...        0       0       0       0\n",
              "藝術(原本)        0       0       0       0  ...        0       0       0       0\n",
              "計算機(原本)       0       0       0       0  ...       10       0       0       0\n",
              "教育(原本)        0       0       0       0  ...        0      10       0       0\n",
              "政治(原本)        0       0       0       0  ...        0       0      11       0\n",
              "經濟(原本)        0       0       0       0  ...        0       0       0      10\n",
              "\n",
              "[10 rows x 10 columns]"
            ]
          },
          "metadata": {
            "tags": []
          },
          "execution_count": 35
        }
      ]
    },
    {
      "cell_type": "code",
      "metadata": {
        "id": "Ko0ZT3Ty5gpz",
        "outputId": "26a00536-f44c-4afb-ec43-66a312b9846e",
        "colab": {
          "base_uri": "https://localhost:8080/"
        }
      },
      "source": [
        "p = input('輸入新聞:')\n",
        "x_predict = vec.transform([multi_cut(p)])\n",
        "proba = clf.predict_proba(x_predict)[0]\n",
        "for w, p in zip(category, proba):\n",
        "  print(w, ':', round(p, 4))"
      ],
      "execution_count": null,
      "outputs": [
        {
          "output_type": "stream",
          "text": [
            "輸入新聞:週二 (6 日) 美國兩黨持續談判，加上聯準會主席持續喊話國會加大紓困力度，華爾街引頸期待新一輪刺激法案出爐，美股早盤震盪走高。  尾盤時段，美國總統川普喊停新紓困案談判，恐慌指數 VIX 應聲衝高，美股聞聲豬羊變色，四大指數全數收跌，波音重挫，道瓊收跌逾 300 點。  道瓊 15 分鐘走勢圖。(圖片：investing) 道瓊 15 分鐘走勢圖。(圖片：investing) 川普推文表示，他已指示白宮代表們停止 (與民主黨代表間的) 談判，直到美國大選後。本輪談判破局的原因在於，兩黨對紓困金的規模與用途仍沒有共識。  眾議院議長佩洛西 (Nancy Pelosi) 隨後發表聲明回應，川普充分展現他的本色，在國會共和黨議員的全力配合下，以國家作為代價，把自己放在第一位。  Fed 主席鮑爾週二出席全美企業經濟協會 (National Association for Business Economics) 並發表演說。  鮑爾稱，經濟復甦未完成，美國仍可能陷入衰退，呼籲國會採取積極的財政和貨幣刺激措施以促進經濟復甦，研判過度的財政紓困風險似乎很小。  全球新冠肺炎 (COVID-19) 疫情持續蔓延，截稿前，據美國約翰霍普金斯大學 (Johns Hopkins University) 即時統計，全球確診數已飆破 3560 萬例，死亡數突破 104 萬例。美國累計確診超過 747 萬例，累計死亡數超過 21 萬。\n",
            "環境 : 0.0\n",
            "體育 : 0.0\n",
            "交通 : 0.0\n",
            "醫藥 : 0.0\n",
            "軍事 : 0.0\n",
            "藝術 : 0.0\n",
            "計算機 : 0.0\n",
            "教育 : 0.0\n",
            "政治 : 0.0\n",
            "經濟 : 1.0\n"
          ],
          "name": "stdout"
        }
      ]
    },
    {
      "cell_type": "code",
      "metadata": {
        "id": "vHJozWMJ7_tt"
      },
      "source": [
        ""
      ],
      "execution_count": null,
      "outputs": []
    }
  ]
}