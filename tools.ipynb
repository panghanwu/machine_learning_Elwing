{
  "nbformat": 4,
  "nbformat_minor": 0,
  "metadata": {
    "colab": {
      "name": "tools.ipynb",
      "provenance": [],
      "authorship_tag": "ABX9TyNSyLl4MKafQ11LGHl/6v2G",
      "include_colab_link": true
    },
    "kernelspec": {
      "name": "python3",
      "display_name": "Python 3"
    }
  },
  "cells": [
    {
      "cell_type": "markdown",
      "metadata": {
        "id": "view-in-github",
        "colab_type": "text"
      },
      "source": [
        "<a href=\"https://colab.research.google.com/github/panghanwu/scikit-learning_tutorial_Elwing/blob/main/tools.ipynb\" target=\"_parent\"><img src=\"https://colab.research.google.com/assets/colab-badge.svg\" alt=\"Open In Colab\"/></a>"
      ]
    },
    {
      "cell_type": "markdown",
      "metadata": {
        "id": "54wlgCwsswrW"
      },
      "source": [
        "# 簡轉繁\n",
        "[opencc](https://pypi.org/project/opencc-python-reimplemented/)"
      ]
    },
    {
      "cell_type": "code",
      "metadata": {
        "id": "kfJ2XpfxqRUJ",
        "outputId": "ab7f64f1-6707-4bd0-8ba7-b8d795831119",
        "colab": {
          "base_uri": "https://localhost:8080/",
          "height": 34
        }
      },
      "source": [
        "# !: 表示系統指令  \n",
        "!pip install opencc-python-reimplemented"
      ],
      "execution_count": null,
      "outputs": [
        {
          "output_type": "stream",
          "text": [
            "Requirement already satisfied: opencc-python-reimplemented in /usr/local/lib/python3.6/dist-packages (0.1.6)\n"
          ],
          "name": "stdout"
        }
      ]
    },
    {
      "cell_type": "code",
      "metadata": {
        "id": "sDeJWL6bqp5J",
        "outputId": "aa35432c-6553-4162-b155-45106d94443b",
        "colab": {
          "base_uri": "https://localhost:8080/",
          "height": 69
        }
      },
      "source": [
        "with open('chs.txt', 'r', encoding='utf-8') as f:\n",
        "  chs = f.read()\n",
        "chs"
      ],
      "execution_count": null,
      "outputs": [
        {
          "output_type": "execute_result",
          "data": {
            "application/vnd.google.colaboratory.intrinsic+json": {
              "type": "string"
            },
            "text/plain": [
              "'为什么会觉得bai烦呢？也许让我们学写du繁体中文的话zhi，我们可能会烦。\\n主要看所处的dao环境。\\n如果楼主从一出生就学的是繁体中文的话，现在让你学写简体中文，你也会烦的。如果一个英语为母语的国家，让他们的人民学中文，不管是繁体还是简体都会烦。\\n要你用你的纯母语来书写，应该是最顺手的吧'"
            ]
          },
          "metadata": {
            "tags": []
          },
          "execution_count": 2
        }
      ]
    },
    {
      "cell_type": "code",
      "metadata": {
        "id": "W3BO67aVsq3O",
        "outputId": "8bda74a5-9a23-402f-9600-78429d99098d",
        "colab": {
          "base_uri": "https://localhost:8080/",
          "height": 52
        }
      },
      "source": [
        "from opencc import OpenCC\n",
        "\n",
        "cc = OpenCC('s2twp')  \n",
        "converted = cc.convert(chs)\n",
        "converted"
      ],
      "execution_count": null,
      "outputs": [
        {
          "output_type": "execute_result",
          "data": {
            "application/vnd.google.colaboratory.intrinsic+json": {
              "type": "string"
            },
            "text/plain": [
              "'為什麼會覺得bai煩呢？也許讓我們學寫du繁體中文的話zhi，我們可能會煩。\\n主要看所處的dao環境。\\n如果樓主從一出生就學的是繁體中文的話，現在讓你學寫簡體中文，你也會煩的。如果一個英語為母語的國家，讓他們的人民學中文，不管是繁體還是簡體都會煩。\\n要你用你的純母語來書寫，應該是最順手的吧'"
            ]
          },
          "metadata": {
            "tags": []
          },
          "execution_count": 4
        }
      ]
    },
    {
      "cell_type": "markdown",
      "metadata": {
        "id": "dImy8u5buQsB"
      },
      "source": [
        "# 中文分詞\n",
        "[jieba](https://github.com/fxsjy/jieba)"
      ]
    },
    {
      "cell_type": "code",
      "metadata": {
        "id": "UHG9Ve8AtJsM",
        "outputId": "ce8eb2cd-1e8e-4e63-b3af-eca417efc8f2",
        "colab": {
          "base_uri": "https://localhost:8080/",
          "height": 222
        }
      },
      "source": [
        "import jieba\n",
        "\n",
        "with open('news.txt', 'r', encoding='utf-8') as f:\n",
        "  news = f.read()\n",
        "' '.join(jieba.cut(news))"
      ],
      "execution_count": null,
      "outputs": [
        {
          "output_type": "stream",
          "text": [
            "Building prefix dict from the default dictionary ...\n",
            "Dumping model to file cache /tmp/jieba.cache\n",
            "Loading model cost 1.000 seconds.\n",
            "Prefix dict has been built successfully.\n"
          ],
          "name": "stderr"
        },
        {
          "output_type": "execute_result",
          "data": {
            "application/vnd.google.colaboratory.intrinsic+json": {
              "type": "string"
            },
            "text/plain": [
              "'夭壽 喔 ！ 這是 做秀 抑是 瘋 了 ？ 美國 總 統川普 （ Donald   Trump ） 確診 武漢 肺炎 ， 竟然 短暫 搭車 離 開沃爾 特里 德國家 軍事 醫療 中心 （ Walter   Reed   National   Military   Medical   Center ） ， 繞街 在 車內 向 支持者 致意 ， 還稱 是 「 小驚喜 」 ， 嚇壞 美國 一票 醫學 專家 。 GWU 急診 醫學 災難 醫學 負責人 菲利普斯 （ Dr .   James   P .   Phillips ） 痛罵川 普瘋 了 ， 害同車 的 人要 隔離 14 天 ， 甚至 面對 感染 、 死亡 威脅 。 \\n \\n 川普堪稱 是 感染 武漢 肺炎 後 「 最 不安份 」 的 國家 領袖 了 ， 他 週日 在 推特上 傳 影片 ， 稱要給 大家 「 一個 驚喜 」 ， 沒 想到 竟然 是 他 搭乘 防護 車輛 離開 醫院 ， 繞著 醫療 中心 附近 的 街道 「 現身 」 ， 接受 等 在 醫院 外 支持者 的 歡呼 。 \\n \\n \\n 美國 有線 電視 新聞網 CNN 批評 ， 川普 在 SUV 車內 仍 戴 著防護 口罩 ， 但 他 似乎 沒 有意 識到 危險性 ， 顯示 出 這位 總統 的 可議 行為 ， 他 似乎 無法 理解 高度 傳染性 和 致命性 疾病 的 嚴重性 ， 不 知道 這種 行為 會 危害 員工 ， 以及 可能 引發 的後續 效應 。 \\n \\n 川普 在 自己 po 的 影片 中 提到 ， 自從 確診 武漢肺 後 ， 他學到 很多 ， 還說 他 會 讓 人們 知道 「 這是 一件 非常 有趣 的 事 」 。 醫學 專家 菲利普斯 在 推特痛 罵 「 這 根本 是 精神 錯亂 」 （ This   is   insanity ） ！ \\n \\n 菲利普斯 批川 普是 在 做秀 ， 指與川 普同車 的 每個 人 都 必須 被 隔離 14 天 ， 他們 可能 會 生病 ， 甚至 可能 會 死 ， 在 這個 政治 劇院裡 ， 川普 下令 將這些 人 的 生命 曝露 在 威脅 中 。 該 推文 引來 18 萬網友 關注 ， 不少 網友 跟 著 罵川普 「 蠢貨 」 、 「 災難 」 ， 竟然 只 戴 著 普通 醫用 黑色 口罩 ， 而 不是 N95 口罩 ！ 還 有人 認為 這是 「 大騙局 」 ， 這場 災難 「 管理 失敗 」 。 \\n \\n 白宮 記者 協會 也 發出 聲明 ， 批 評川普 在 沒 有 全套 保護 裝備 下 離院 的 行為 ， 「 荒謬 絕倫 」 ， 記者 們 沒 有 接到 任何 通知 ， 相當 不滿 ， 他們 堅稱 美國民眾 比 任何 時候 更 需要 關於 總統 健康 真實 情況 的 報導 。'"
            ]
          },
          "metadata": {
            "tags": []
          },
          "execution_count": 6
        }
      ]
    },
    {
      "cell_type": "code",
      "metadata": {
        "id": "fxcK-aisxPOo",
        "outputId": "8d3258c8-86a1-46a1-c269-82f2eebf4153",
        "colab": {
          "base_uri": "https://localhost:8080/",
          "height": 222
        }
      },
      "source": [
        "import os\n",
        "from urllib.request import urlretrieve\n",
        "\n",
        "if not os.path.exists('dict.txt.big'):\n",
        "    url = 'https://github.com/fxsjy/jieba/raw/master/extra_dict/dict.txt.big'\n",
        "    urlretrieve(url, 'dict.txt.big')\n",
        "jieba.set_dictionary('dict.txt.big')  # 繁體大詞典\n",
        "jieba.load_userdict('dict.politics.txt')  # 載入自定義詞典 \n",
        "\n",
        "with open('news.txt', 'r', encoding='utf-8') as f:\n",
        "  news = f.read()\n",
        "' '.join(jieba.cut(news))"
      ],
      "execution_count": null,
      "outputs": [
        {
          "output_type": "stream",
          "text": [
            "Building prefix dict from /content/dict.txt.big ...\n",
            "Loading model from cache /tmp/jieba.u501edca284da514cb68b53a20324f4e3.cache\n",
            "Loading model cost 1.400 seconds.\n",
            "Prefix dict has been built successfully.\n"
          ],
          "name": "stderr"
        },
        {
          "output_type": "execute_result",
          "data": {
            "application/vnd.google.colaboratory.intrinsic+json": {
              "type": "string"
            },
            "text/plain": [
              "'夭壽 喔 ！ 這是 做秀 抑是 瘋 了 ？ 美國 總統 川普 （ Donald   Trump ） 確診 武漢肺炎 ， 竟然 短暫 搭車 離開 沃爾特 里德 國家 軍事 醫療 中心 （ Walter   Reed   National   Military   Medical   Center ） ， 繞街 在車 內向 支持者 致意 ， 還稱 是 「 小 驚喜 」 ， 嚇壞 美國 一票 醫學專家 。 GWU 急診 醫學 災難 醫學 負責人 菲利普斯 （ Dr .   James   P .   Phillips ） 痛罵 川普 瘋 了 ， 害同車 的 人 要 隔離 14 天 ， 甚至 面對 感染 、 死亡威脅 。 \\n \\n 川普 堪稱 是 感染 武漢肺炎 後 「 最 不安份 」 的 國家 領袖 了 ， 他 週日 在 推特 上傳 影片 ， 稱要給 大家 「 一個 驚喜 」 ， 沒想到 竟然 是 他 搭乘 防護 車輛 離開 醫院 ， 繞著 醫療 中心 附近 的 街道 「 現身 」 ， 接受 等 在 醫院 外 支持者 的 歡呼 。 \\n \\n \\n 美國有線電視新聞網 CNN 批評 ， 川普 在 SUV 車內 仍 戴 著 防護 口罩 ， 但 他 似乎 沒有 意識 到 危險性 ， 顯示 出 這位 總統 的 可議 行為 ， 他 似乎 無法 理解 高度 傳染性 和 致命性 疾病 的 嚴重性 ， 不 知道 這種 行為 會 危害 員工 ， 以及 可能 引發 的 後續 效應 。 \\n \\n 川普 在 自己 po 的 影片 中 提到 ， 自從 確診 武漢 肺 後 ， 他 學到 很多 ， 還說 他 會 讓 人們 知道 「 這是 一件 非常 有趣 的 事 」 。 醫學專家 菲利普斯 在 推特 痛罵 「 這根 本是 精神 錯亂 」 （ This   is   insanity ） ！ \\n \\n 菲利普斯 批 川普 是 在 做秀 ， 指 與 川普 同車 的 每個 人 都 必須 被 隔離 14 天 ， 他們 可能 會 生病 ， 甚至 可能 會 死 ， 在 這個 政治 劇院 裡 ， 川普 下令 將 這些 人 的 生命 曝露 在 威脅 中 。 該 推文 引來 18 萬 網友 關注 ， 不少 網友 跟 著 罵 川普 「 蠢貨 」 、 「 災難 」 ， 竟然 只 戴 著 普通 醫用 黑色 口罩 ， 而 不是 N95 口罩 ！ 還有 人 認為 這是 「 大 騙局 」 ， 這場 災難 「 管理 失敗 」 。 \\n \\n 白宮 記者 協會 也 發出 聲明 ， 批評 川普 在 沒有 全套 保護 裝備 下離院 的 行為 ， 「 荒謬絕倫 」 ， 記者 們 沒有 接到 任何 通知 ， 相當 不滿 ， 他們 堅稱 美國 民眾 比 任何 時候 更 需要 關於 總統 健康 真實情況 的 報導 。'"
            ]
          },
          "metadata": {
            "tags": []
          },
          "execution_count": 32
        }
      ]
    },
    {
      "cell_type": "markdown",
      "metadata": {
        "id": "ffnbfGtr14nZ"
      },
      "source": [
        "# 抓關鍵詞\n",
        "### tf-idf:\n",
        "$重要性=次數\\times ln(\\dfrac{1}{常用度})$"
      ]
    },
    {
      "cell_type": "code",
      "metadata": {
        "id": "tljcNihmRTNy",
        "outputId": "3ba17bfb-a58b-4d68-fa89-d9d76189a455",
        "colab": {
          "base_uri": "https://localhost:8080/",
          "height": 357
        }
      },
      "source": [
        "import jieba.analyse\n",
        "jieba.analyse.extract_tags(news)"
      ],
      "execution_count": null,
      "outputs": [
        {
          "output_type": "execute_result",
          "data": {
            "text/plain": [
              "['川普',\n",
              " '這是',\n",
              " '美國',\n",
              " '總統',\n",
              " '災難',\n",
              " '沒有',\n",
              " '行為',\n",
              " '菲利普斯',\n",
              " '口罩',\n",
              " '確診',\n",
              " '武漢肺炎',\n",
              " '離開',\n",
              " '國家',\n",
              " '醫療',\n",
              " '驚喜',\n",
              " '醫學專家',\n",
              " '醫學',\n",
              " '痛罵',\n",
              " '隔離',\n",
              " '14']"
            ]
          },
          "metadata": {
            "tags": []
          },
          "execution_count": 34
        }
      ]
    },
    {
      "cell_type": "code",
      "metadata": {
        "id": "UVFCyCSvRexZ"
      },
      "source": [
        ""
      ],
      "execution_count": null,
      "outputs": []
    }
  ]
}