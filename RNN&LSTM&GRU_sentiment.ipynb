{
  "nbformat": 4,
  "nbformat_minor": 0,
  "metadata": {
    "colab": {
      "name": "RNN&LSTM&GRU_sentiment.ipynb",
      "provenance": [],
      "authorship_tag": "ABX9TyP0KJp0PXQLkFQJXsMHS9Ii",
      "include_colab_link": true
    },
    "kernelspec": {
      "name": "python3",
      "display_name": "Python 3"
    }
  },
  "cells": [
    {
      "cell_type": "markdown",
      "metadata": {
        "id": "view-in-github",
        "colab_type": "text"
      },
      "source": [
        "<a href=\"https://colab.research.google.com/github/panghanwu/machine_learning_Elwing/blob/main/RNN%26LSTM%26GRU_sentiment.ipynb\" target=\"_parent\"><img src=\"https://colab.research.google.com/assets/colab-badge.svg\" alt=\"Open In Colab\"/></a>"
      ]
    },
    {
      "cell_type": "markdown",
      "metadata": {
        "id": "ZZtxf8XGR48x"
      },
      "source": [
        "不推薦RNN系列，無法平行運算，效果也沒有特別好。"
      ]
    },
    {
      "cell_type": "code",
      "metadata": {
        "id": "Y3cHU_jWN8Nl"
      },
      "source": [
        "import tensorflow as tf\n",
        "\n",
        "dataset = tf.keras.utils.get_file(\n",
        "    fname=\"aclImdb.tar.gz\", \n",
        "    origin=\"http://ai.stanford.edu/~amaas/data/sentiment/aclImdb_v1.tar.gz\", \n",
        "    extract=True,\n",
        ")"
      ],
      "execution_count": 1,
      "outputs": []
    },
    {
      "cell_type": "code",
      "metadata": {
        "id": "0HRL5T5nOQID"
      },
      "source": [
        "from tensorflow.keras.preprocessing.text import Tokenizer\n",
        "from tensorflow.keras.preprocessing.sequence import pad_sequences\n",
        "import os\n",
        "import glob\n",
        "import pandas as pd\n",
        "\n",
        "def read(path):\n",
        "  with open(path, 'r', encoding='utf-8') as f:\n",
        "    content = f.read()\n",
        "  return content\n",
        "\n",
        "# get path\n",
        "dn = os.path.dirname(dataset)\n",
        "pattern = os.path.join(dn, 'aclImdb', 'train', 'pos', '*')\n",
        "pos = glob.glob(pattern)\n",
        "pattern = os.path.join(dn, 'aclImdb', 'train', 'neg', '*')\n",
        "neg = glob.glob(pattern)\n",
        "sentiments = [1]*len(pos) + [0]*len(neg)\n",
        "\n",
        "contents = map(read, pos+neg)\n",
        "\n",
        "\n",
        "def get_data(t):\n",
        "  dn = os.path.dirname(dataset)\n",
        "  pattern = os.path.join(dn, \"aclImdb\", t, \"pos\", \"*.txt\")\n",
        "  pos = glob.glob(pattern)\n",
        "  pattern = os.path.join(dn, \"aclImdb\", t, \"neg\", \"*.txt\")\n",
        "  neg = glob.glob(pattern)\n",
        "  sentiments = [1] * len(pos) + [0] * len(neg)\n",
        "  contents = map(read, pos + neg)\n",
        "  df = pd.DataFrame({\n",
        "      \"contents\":contents,\n",
        "      \"sentiment\":sentiments\n",
        "  })\n",
        "  return df\n",
        "\n",
        "train_df = get_data('train')\n",
        "test_df = get_data('test')\n",
        "\n",
        "# parameter\n",
        "TOK = 3000\n",
        "LEN = 512\n",
        "EM = 128\n",
        "\n",
        "tok = Tokenizer(num_words=TOK)\n",
        "tok.fit_on_texts(train_df['contents'])\n",
        "\n",
        "x_train_seq = tok.texts_to_sequences(train_df['contents'])\n",
        "x_test_seq = tok.texts_to_sequences(test_df['contents'])\n",
        "\n",
        "x_train_pad = pad_sequences(x_train_seq, LEN)\n",
        "x_test_pad = pad_sequences(x_test_seq, LEN)\n"
      ],
      "execution_count": 2,
      "outputs": []
    },
    {
      "cell_type": "code",
      "metadata": {
        "id": "55I1pvZSHM1q",
        "outputId": "9d0af57b-fdd8-44f5-f85f-d8d7b1b345f2",
        "colab": {
          "base_uri": "https://localhost:8080/"
        }
      },
      "source": [
        "from tensorflow.keras.models import Sequential\n",
        "from tensorflow.keras.layers import Embedding\n",
        "from tensorflow.keras.layers import Dense, Flatten, Dropout\n",
        "from tensorflow.keras.layers import SimpleRNN\n",
        "\"\"\"RNN\"\"\" \n",
        "layers = [\n",
        "      Embedding(TOK+1, EM, mask_zero=True, input_length=LEN),\n",
        "      SimpleRNN(64),\n",
        "      Dense(2, activation=\"softmax\")  \n",
        "]\n",
        "\n",
        "model = Sequential(layers)\n",
        "model.summary()"
      ],
      "execution_count": 3,
      "outputs": [
        {
          "output_type": "stream",
          "text": [
            "Model: \"sequential\"\n",
            "_________________________________________________________________\n",
            "Layer (type)                 Output Shape              Param #   \n",
            "=================================================================\n",
            "embedding (Embedding)        (None, 512, 128)          384128    \n",
            "_________________________________________________________________\n",
            "simple_rnn (SimpleRNN)       (None, 64)                12352     \n",
            "_________________________________________________________________\n",
            "dense (Dense)                (None, 2)                 130       \n",
            "=================================================================\n",
            "Total params: 396,610\n",
            "Trainable params: 396,610\n",
            "Non-trainable params: 0\n",
            "_________________________________________________________________\n"
          ],
          "name": "stdout"
        }
      ]
    },
    {
      "cell_type": "code",
      "metadata": {
        "id": "s6zpRtMKOwpp",
        "outputId": "0265d4e7-c6db-4bfe-e45e-181b7a8b4da1",
        "colab": {
          "base_uri": "https://localhost:8080/"
        }
      },
      "source": [
        "from tensorflow.keras.losses import SparseCategoricalCrossentropy\n",
        "from tensorflow.keras.optimizers import Adam\n",
        "from tensorflow.keras.callbacks import EarlyStopping, ModelCheckpoint\n",
        "\n",
        "model.compile(loss=SparseCategoricalCrossentropy(),\n",
        "       optimizer=Adam(),\n",
        "       metrics=[\"accuracy\"])\n",
        "\n",
        "y_train = train_df[\"sentiment\"]\n",
        "y_test = test_df[\"sentiment\"]\n",
        "\n",
        "callbacks = [\n",
        "    ModelCheckpoint(\"model.h5\", save_best_only=True),\n",
        "    EarlyStopping(patience=5, restore_best_weights=True)\n",
        "]\n",
        "model.fit(x_train_pad, \n",
        "     y_train,\n",
        "     batch_size=100,\n",
        "     epochs=50,\n",
        "     validation_split=0.1,\n",
        "     callbacks=callbacks)"
      ],
      "execution_count": 4,
      "outputs": [
        {
          "output_type": "stream",
          "text": [
            "Epoch 1/50\n",
            "225/225 [==============================] - 68s 302ms/step - loss: 0.5707 - accuracy: 0.6868 - val_loss: 0.7486 - val_accuracy: 0.5468\n",
            "Epoch 2/50\n",
            "225/225 [==============================] - 68s 304ms/step - loss: 0.3656 - accuracy: 0.8447 - val_loss: 0.6132 - val_accuracy: 0.6712\n",
            "Epoch 3/50\n",
            "225/225 [==============================] - 68s 302ms/step - loss: 0.3480 - accuracy: 0.8536 - val_loss: 0.4332 - val_accuracy: 0.8048\n",
            "Epoch 4/50\n",
            "225/225 [==============================] - 67s 297ms/step - loss: 0.3364 - accuracy: 0.8498 - val_loss: 0.4595 - val_accuracy: 0.8124\n",
            "Epoch 5/50\n",
            "225/225 [==============================] - 67s 298ms/step - loss: 0.2678 - accuracy: 0.8862 - val_loss: 0.6593 - val_accuracy: 0.6612\n",
            "Epoch 6/50\n",
            "225/225 [==============================] - 67s 298ms/step - loss: 0.2481 - accuracy: 0.8958 - val_loss: 0.6519 - val_accuracy: 0.7524\n",
            "Epoch 7/50\n",
            "225/225 [==============================] - 67s 296ms/step - loss: 0.1075 - accuracy: 0.9636 - val_loss: 0.8543 - val_accuracy: 0.7128\n",
            "Epoch 8/50\n",
            "225/225 [==============================] - 67s 296ms/step - loss: 0.0463 - accuracy: 0.9872 - val_loss: 0.7875 - val_accuracy: 0.7724\n"
          ],
          "name": "stdout"
        },
        {
          "output_type": "execute_result",
          "data": {
            "text/plain": [
              "<tensorflow.python.keras.callbacks.History at 0x7f92c58f0e80>"
            ]
          },
          "metadata": {
            "tags": []
          },
          "execution_count": 4
        }
      ]
    },
    {
      "cell_type": "code",
      "metadata": {
        "id": "5-Mr96EkV1Nt",
        "outputId": "3486e761-ef0c-49c1-caf8-35c4c1e2dad9",
        "colab": {
          "base_uri": "https://localhost:8080/"
        }
      },
      "source": [
        "model.evaluate(x_test_pad, y_test)"
      ],
      "execution_count": 5,
      "outputs": [
        {
          "output_type": "stream",
          "text": [
            "782/782 [==============================] - 36s 46ms/step - loss: 0.4349 - accuracy: 0.8245\n"
          ],
          "name": "stdout"
        },
        {
          "output_type": "execute_result",
          "data": {
            "text/plain": [
              "[0.434914767742157, 0.8245199918746948]"
            ]
          },
          "metadata": {
            "tags": []
          },
          "execution_count": 5
        }
      ]
    },
    {
      "cell_type": "code",
      "metadata": {
        "id": "9v6pea7vHTPz",
        "outputId": "21d8ffd5-f988-48fa-c0d0-ad78de6e5af4",
        "colab": {
          "base_uri": "https://localhost:8080/"
        }
      },
      "source": [
        "from tensorflow.keras.layers import LSTM\n",
        "\"\"\"LSTM\"\"\" \n",
        "layers = [\n",
        "      Embedding(TOK+1, EM, mask_zero=True, input_length=LEN),\n",
        "      LSTM(64),\n",
        "      Dense(2, activation=\"softmax\")  \n",
        "]\n",
        "\n",
        "model = Sequential(layers)\n",
        "model.summary()"
      ],
      "execution_count": 6,
      "outputs": [
        {
          "output_type": "stream",
          "text": [
            "Model: \"sequential_1\"\n",
            "_________________________________________________________________\n",
            "Layer (type)                 Output Shape              Param #   \n",
            "=================================================================\n",
            "embedding_1 (Embedding)      (None, 512, 128)          384128    \n",
            "_________________________________________________________________\n",
            "lstm (LSTM)                  (None, 64)                49408     \n",
            "_________________________________________________________________\n",
            "dense_1 (Dense)              (None, 2)                 130       \n",
            "=================================================================\n",
            "Total params: 433,666\n",
            "Trainable params: 433,666\n",
            "Non-trainable params: 0\n",
            "_________________________________________________________________\n"
          ],
          "name": "stdout"
        }
      ]
    },
    {
      "cell_type": "code",
      "metadata": {
        "id": "ZV8vyU2nHfjL",
        "outputId": "82987fee-acd1-4727-8ec5-8584745cd026",
        "colab": {
          "base_uri": "https://localhost:8080/"
        }
      },
      "source": [
        "model.compile(loss=SparseCategoricalCrossentropy(),\n",
        "       optimizer=Adam(),\n",
        "       metrics=[\"accuracy\"])\n",
        "\n",
        "y_train = train_df[\"sentiment\"]\n",
        "y_test = test_df[\"sentiment\"]\n",
        "\n",
        "callbacks = [\n",
        "    ModelCheckpoint(\"model.h5\", save_best_only=True),\n",
        "    EarlyStopping(patience=5, restore_best_weights=True)\n",
        "]\n",
        "model.fit(x_train_pad, \n",
        "     y_train,\n",
        "     batch_size=100,\n",
        "     epochs=50,\n",
        "     validation_split=0.1,\n",
        "     callbacks=callbacks)"
      ],
      "execution_count": 7,
      "outputs": [
        {
          "output_type": "stream",
          "text": [
            "Epoch 1/50\n",
            "225/225 [==============================] - 185s 823ms/step - loss: 0.4576 - accuracy: 0.7716 - val_loss: 0.5513 - val_accuracy: 0.7596\n",
            "Epoch 2/50\n",
            "225/225 [==============================] - 180s 802ms/step - loss: 0.2864 - accuracy: 0.8828 - val_loss: 0.3805 - val_accuracy: 0.8208\n",
            "Epoch 3/50\n",
            "225/225 [==============================] - 181s 803ms/step - loss: 0.2416 - accuracy: 0.9055 - val_loss: 0.4617 - val_accuracy: 0.8304\n",
            "Epoch 4/50\n",
            "225/225 [==============================] - 185s 823ms/step - loss: 0.2071 - accuracy: 0.9188 - val_loss: 0.5104 - val_accuracy: 0.7976\n",
            "Epoch 5/50\n",
            "225/225 [==============================] - 181s 803ms/step - loss: 0.1735 - accuracy: 0.9335 - val_loss: 0.3881 - val_accuracy: 0.8548\n",
            "Epoch 6/50\n",
            "225/225 [==============================] - 182s 808ms/step - loss: 0.1752 - accuracy: 0.9312 - val_loss: 0.2761 - val_accuracy: 0.8972\n",
            "Epoch 7/50\n",
            "225/225 [==============================] - 186s 828ms/step - loss: 0.1809 - accuracy: 0.9290 - val_loss: 0.3777 - val_accuracy: 0.8592\n",
            "Epoch 8/50\n",
            "225/225 [==============================] - 182s 811ms/step - loss: 0.1286 - accuracy: 0.9512 - val_loss: 0.6503 - val_accuracy: 0.7996\n",
            "Epoch 9/50\n",
            "225/225 [==============================] - 182s 809ms/step - loss: 0.0972 - accuracy: 0.9662 - val_loss: 0.6221 - val_accuracy: 0.8516\n",
            "Epoch 10/50\n",
            "225/225 [==============================] - 181s 803ms/step - loss: 0.0916 - accuracy: 0.9675 - val_loss: 0.5450 - val_accuracy: 0.8632\n",
            "Epoch 11/50\n",
            "225/225 [==============================] - 181s 807ms/step - loss: 0.0730 - accuracy: 0.9746 - val_loss: 0.6276 - val_accuracy: 0.8224\n"
          ],
          "name": "stdout"
        },
        {
          "output_type": "execute_result",
          "data": {
            "text/plain": [
              "<tensorflow.python.keras.callbacks.History at 0x7f92c1dc36a0>"
            ]
          },
          "metadata": {
            "tags": []
          },
          "execution_count": 7
        }
      ]
    },
    {
      "cell_type": "code",
      "metadata": {
        "id": "fLaLletTHi3Z",
        "outputId": "f7f48472-fd21-4401-ff69-6d21291f5df9",
        "colab": {
          "base_uri": "https://localhost:8080/"
        }
      },
      "source": [
        "model.evaluate(x_test_pad, y_test)"
      ],
      "execution_count": 8,
      "outputs": [
        {
          "output_type": "stream",
          "text": [
            "782/782 [==============================] - 66s 85ms/step - loss: 0.3439 - accuracy: 0.8697\n"
          ],
          "name": "stdout"
        },
        {
          "output_type": "execute_result",
          "data": {
            "text/plain": [
              "[0.3439391553401947, 0.8696799874305725]"
            ]
          },
          "metadata": {
            "tags": []
          },
          "execution_count": 8
        }
      ]
    },
    {
      "cell_type": "code",
      "metadata": {
        "id": "w7hVIhQFHkoB",
        "outputId": "9ba0d228-f5c8-4e30-d3b2-0f0cd176b499",
        "colab": {
          "base_uri": "https://localhost:8080/"
        }
      },
      "source": [
        "from tensorflow.keras.layers import GRU\n",
        "\"\"\"GRU\"\"\" \n",
        "layers = [\n",
        "      Embedding(TOK+1, EM, mask_zero=True, input_length=LEN),\n",
        "      GRU(64),\n",
        "      Dense(2, activation=\"softmax\")  \n",
        "]\n",
        "\n",
        "model = Sequential(layers)\n",
        "model.summary()"
      ],
      "execution_count": 9,
      "outputs": [
        {
          "output_type": "stream",
          "text": [
            "Model: \"sequential_2\"\n",
            "_________________________________________________________________\n",
            "Layer (type)                 Output Shape              Param #   \n",
            "=================================================================\n",
            "embedding_2 (Embedding)      (None, 512, 128)          384128    \n",
            "_________________________________________________________________\n",
            "gru (GRU)                    (None, 64)                37248     \n",
            "_________________________________________________________________\n",
            "dense_2 (Dense)              (None, 2)                 130       \n",
            "=================================================================\n",
            "Total params: 421,506\n",
            "Trainable params: 421,506\n",
            "Non-trainable params: 0\n",
            "_________________________________________________________________\n"
          ],
          "name": "stdout"
        }
      ]
    },
    {
      "cell_type": "code",
      "metadata": {
        "id": "sfxHxcRMHpiK",
        "outputId": "1986c14e-7e4f-4871-9d82-03bb608a7760",
        "colab": {
          "base_uri": "https://localhost:8080/"
        }
      },
      "source": [
        "model.compile(loss=SparseCategoricalCrossentropy(),\n",
        "       optimizer=Adam(),\n",
        "       metrics=[\"accuracy\"])\n",
        "\n",
        "y_train = train_df[\"sentiment\"]\n",
        "y_test = test_df[\"sentiment\"]\n",
        "\n",
        "callbacks = [\n",
        "    ModelCheckpoint(\"model.h5\", save_best_only=True),\n",
        "    EarlyStopping(patience=5, restore_best_weights=True)\n",
        "]\n",
        "model.fit(x_train_pad, \n",
        "     y_train,\n",
        "     batch_size=100,\n",
        "     epochs=50,\n",
        "     validation_split=0.1,\n",
        "     callbacks=callbacks)"
      ],
      "execution_count": 10,
      "outputs": [
        {
          "output_type": "stream",
          "text": [
            "Epoch 1/50\n",
            "225/225 [==============================] - 118s 524ms/step - loss: 0.4571 - accuracy: 0.7684 - val_loss: 0.4868 - val_accuracy: 0.7840\n",
            "Epoch 2/50\n",
            "225/225 [==============================] - 116s 517ms/step - loss: 0.2798 - accuracy: 0.8872 - val_loss: 0.3588 - val_accuracy: 0.8536\n",
            "Epoch 3/50\n",
            "225/225 [==============================] - 120s 533ms/step - loss: 0.2310 - accuracy: 0.9088 - val_loss: 0.4324 - val_accuracy: 0.8276\n",
            "Epoch 4/50\n",
            "225/225 [==============================] - 117s 522ms/step - loss: 0.1968 - accuracy: 0.9238 - val_loss: 0.3263 - val_accuracy: 0.8812\n",
            "Epoch 5/50\n",
            "225/225 [==============================] - 118s 523ms/step - loss: 0.1729 - accuracy: 0.9344 - val_loss: 0.3721 - val_accuracy: 0.8696\n",
            "Epoch 6/50\n",
            "225/225 [==============================] - 118s 523ms/step - loss: 0.1428 - accuracy: 0.9476 - val_loss: 0.5267 - val_accuracy: 0.8304\n",
            "Epoch 7/50\n",
            "225/225 [==============================] - 118s 523ms/step - loss: 0.1235 - accuracy: 0.9557 - val_loss: 0.4721 - val_accuracy: 0.8576\n",
            "Epoch 8/50\n",
            "225/225 [==============================] - 122s 541ms/step - loss: 0.0936 - accuracy: 0.9677 - val_loss: 0.6085 - val_accuracy: 0.8244\n",
            "Epoch 9/50\n",
            "225/225 [==============================] - 117s 520ms/step - loss: 0.0843 - accuracy: 0.9720 - val_loss: 0.6206 - val_accuracy: 0.8344\n"
          ],
          "name": "stdout"
        },
        {
          "output_type": "execute_result",
          "data": {
            "text/plain": [
              "<tensorflow.python.keras.callbacks.History at 0x7f92b9851cf8>"
            ]
          },
          "metadata": {
            "tags": []
          },
          "execution_count": 10
        }
      ]
    },
    {
      "cell_type": "code",
      "metadata": {
        "id": "gLNS33JGHqtx",
        "outputId": "8eb271c7-8dc0-44ad-e63f-b63ffb6d39e4",
        "colab": {
          "base_uri": "https://localhost:8080/"
        }
      },
      "source": [
        "model.evaluate(x_test_pad, y_test)"
      ],
      "execution_count": 11,
      "outputs": [
        {
          "output_type": "stream",
          "text": [
            "782/782 [==============================] - 58s 74ms/step - loss: 0.3094 - accuracy: 0.8734\n"
          ],
          "name": "stdout"
        },
        {
          "output_type": "execute_result",
          "data": {
            "text/plain": [
              "[0.309406042098999, 0.8733999729156494]"
            ]
          },
          "metadata": {
            "tags": []
          },
          "execution_count": 11
        }
      ]
    }
  ]
}